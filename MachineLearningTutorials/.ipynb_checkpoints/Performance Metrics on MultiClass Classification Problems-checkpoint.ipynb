{
 "cells": [
  {
   "cell_type": "code",
   "execution_count": 1,
   "id": "e7be9407",
   "metadata": {},
   "outputs": [],
   "source": [
    "from sklearn import metrics"
   ]
  },
  {
   "cell_type": "code",
   "execution_count": 2,
   "id": "0342f680",
   "metadata": {},
   "outputs": [],
   "source": [
    "C=\"Cat\"\n",
    "D=\"Dog\"\n",
    "F=\"Fox\""
   ]
  },
  {
   "cell_type": "markdown",
   "id": "3c47e069",
   "metadata": {},
   "source": [
    "##### The precision for the cat class is the number of correctly predicted Cat out of all the predicted Cats.\n",
    "##### The recall for Cat is the number of correctly predicted Cat out of the number of actual Cats."
   ]
  },
  {
   "cell_type": "code",
   "execution_count": 3,
   "id": "37ce5f6a",
   "metadata": {},
   "outputs": [
    {
     "name": "stdout",
     "output_type": "stream",
     "text": [
      "[[4 1 0]\n",
      " [3 5 1]\n",
      " [6 2 2]]\n",
      "              precision    recall  f1-score   support\n",
      "\n",
      "         Cat      0.308     0.800     0.444         5\n",
      "         Dog      0.625     0.556     0.588         9\n",
      "         Fox      0.667     0.200     0.308        10\n",
      "\n",
      "    accuracy                          0.458        24\n",
      "   macro avg      0.533     0.519     0.447        24\n",
      "weighted avg      0.576     0.458     0.441        24\n",
      "\n"
     ]
    }
   ],
   "source": [
    "#True values\n",
    "y_true = [C, C, C, C, C, F, F, F, F, F, F, F, F, F, F, D, D, D, D, D, D, D, D, D]\n",
    "\n",
    "#Predicted values\n",
    "y_pred = [C, C, C, C, D, F, C, C, C, C, C, C, D, D, F, F, C, C, C, D, D, D, D, D]\n",
    "\n",
    "#print the confusion matrix\n",
    "print(metrics.confusion_matrix(y_true, y_pred))\n",
    "\n",
    "#print the precision and recall, among other metrics\n",
    "print(metrics.classification_report(y_true, y_pred, digits=3))"
   ]
  },
  {
   "cell_type": "code",
   "execution_count": null,
   "id": "350c08bb",
   "metadata": {},
   "outputs": [],
   "source": []
  }
 ],
 "metadata": {
  "kernelspec": {
   "display_name": "Python 3 (ipykernel)",
   "language": "python",
   "name": "python3"
  },
  "language_info": {
   "codemirror_mode": {
    "name": "ipython",
    "version": 3
   },
   "file_extension": ".py",
   "mimetype": "text/x-python",
   "name": "python",
   "nbconvert_exporter": "python",
   "pygments_lexer": "ipython3",
   "version": "3.7.10"
  }
 },
 "nbformat": 4,
 "nbformat_minor": 5
}
