{
 "cells": [
  {
   "cell_type": "markdown",
   "id": "fe26f18d",
   "metadata": {},
   "source": [
    "#### What is Vaex?\n",
    "\n",
    "Vaex is a high performance Python library for lazy Out-of-Core DataFrames (similar to Pandas), to visualize and explore big tabular datasets. It calculates statistics such as mean, sum, count, standard deviation etc, on an N-dimensional grid for more than a billion (10^9) samples/rows per second. Visualization is done using histograms, density plots and 3d volume rendering, allowing interactive exploration of big data. Vaex uses memory mapping, zero memory copy policy and lazy computations for best performance (no memory wasted)."
   ]
  },
  {
   "cell_type": "code",
   "execution_count": null,
   "id": "a918bfb4",
   "metadata": {},
   "outputs": [
    {
     "name": "stdout",
     "output_type": "stream",
     "text": [
      "Collecting package metadata (current_repodata.json): done\n",
      "Solving environment: failed with initial frozen solve. Retrying with flexible solve.\n",
      "Solving environment: failed with repodata from current_repodata.json, will retry with next repodata source.\n",
      "Collecting package metadata (repodata.json): done\n",
      "Solving environment: \\ "
     ]
    }
   ],
   "source": [
    "conda install -c conda-forge vaex"
   ]
  },
  {
   "cell_type": "code",
   "execution_count": null,
   "id": "fac5a97e",
   "metadata": {},
   "outputs": [],
   "source": [
    "import vaex\n",
    "import pandas as pd\n",
    "import numpy as np\n",
    "n_rows = 1000000\n",
    "n_cols = 500\n",
    "df = pd.DataFrame(np.random.randint(0, 100, size=(n_rows, n_cols)), columns=['col%d' % i for i in range(n_cols)])\n",
    "df.head() "
   ]
  },
  {
   "cell_type": "code",
   "execution_count": null,
   "id": "d42c9e21",
   "metadata": {},
   "outputs": [],
   "source": [
    "df.info(memory_usage='deep')"
   ]
  },
  {
   "cell_type": "code",
   "execution_count": null,
   "id": "618823bc",
   "metadata": {},
   "outputs": [],
   "source": [
    "#creating a CSV file\n",
    "file_path = 'final_data.csv'\n",
    "df.to_csv(file_path, index=False)"
   ]
  },
  {
   "cell_type": "code",
   "execution_count": null,
   "id": "e433b2bf",
   "metadata": {},
   "outputs": [],
   "source": [
    "#Create Hdf5 files (Hierarchical Data Format files)\n",
    "vaex_df = vaex.from_csv(file_path, convert=True, chunk_size=5_000_000)"
   ]
  },
  {
   "cell_type": "code",
   "execution_count": null,
   "id": "85156d33",
   "metadata": {},
   "outputs": [],
   "source": [
    "type(vaex_df)"
   ]
  },
  {
   "cell_type": "code",
   "execution_count": null,
   "id": "c5fca316",
   "metadata": {},
   "outputs": [],
   "source": [
    "#Read Hdf5 files using Vaex library\n",
    "vaex_df = vaex.open('final_data.csv.hdf5')"
   ]
  },
  {
   "cell_type": "code",
   "execution_count": null,
   "id": "42bd13a9",
   "metadata": {},
   "outputs": [],
   "source": [
    "type(vaex_df)"
   ]
  },
  {
   "cell_type": "code",
   "execution_count": null,
   "id": "de749bdf",
   "metadata": {},
   "outputs": [],
   "source": [
    "vaex_df.head()"
   ]
  },
  {
   "cell_type": "markdown",
   "id": "12ad6e5a",
   "metadata": {},
   "source": [
    "#### Expression system\n",
    "Don't waste memory or time with feature engineering, we (lazily) transform your data when needed."
   ]
  },
  {
   "cell_type": "code",
   "execution_count": null,
   "id": "7ec327dd",
   "metadata": {},
   "outputs": [],
   "source": [
    "%%time\n",
    "vaex_df['multiplication_col13']=vaex_df.col1*vaex_df.col3"
   ]
  },
  {
   "cell_type": "code",
   "execution_count": null,
   "id": "15e4f018",
   "metadata": {},
   "outputs": [],
   "source": [
    "vaex_df['multiplication_col13']"
   ]
  },
  {
   "cell_type": "markdown",
   "id": "5164ef30",
   "metadata": {},
   "source": [
    "#### Out-of-core DataFrame\n",
    "Filtering and evaluating expressions will not waste memory by making copies; the data is kept untouched on disk, and will be streamed only when needed. Delay the time before you need a cluster."
   ]
  },
  {
   "cell_type": "code",
   "execution_count": null,
   "id": "06cc20ba",
   "metadata": {},
   "outputs": [],
   "source": [
    "vaex_df[vaex_df.col2>70]"
   ]
  },
  {
   "cell_type": "code",
   "execution_count": null,
   "id": "dbd0640c",
   "metadata": {},
   "outputs": [],
   "source": [
    "dff=vaex_df[vaex_df.col2>70]  ##Here Filtering will not make a memory copy"
   ]
  },
  {
   "cell_type": "code",
   "execution_count": null,
   "id": "a05c28cf",
   "metadata": {},
   "outputs": [],
   "source": [
    "### All the agorithms work out of core, the limit is the size of your harddriver\n",
    "dff.col2.minmax(progress='widget')"
   ]
  },
  {
   "cell_type": "markdown",
   "id": "cefd99a7",
   "metadata": {},
   "source": [
    "#### Fast groupby / aggregations\n",
    "Vaex implements parallelized, highly performant groupby operations, especially when using categories (>1 billion/second)."
   ]
  },
  {
   "cell_type": "code",
   "execution_count": null,
   "id": "755800a7",
   "metadata": {},
   "outputs": [],
   "source": [
    "%%time\n",
    "vaex_df_group=vaex_df.groupby(vaex_df.col1,agg=vaex.agg.mean(vaex_df.col4))\n",
    "vaex_df_group"
   ]
  },
  {
   "cell_type": "code",
   "execution_count": null,
   "id": "8a4c3f52",
   "metadata": {},
   "outputs": [],
   "source": [
    "%%time\n",
    "vaex_df.groupby(vaex_df.col1,agg='count')"
   ]
  }
 ],
 "metadata": {
  "kernelspec": {
   "display_name": "Python 3 (ipykernel)",
   "language": "python",
   "name": "python3"
  },
  "language_info": {
   "codemirror_mode": {
    "name": "ipython",
    "version": 3
   },
   "file_extension": ".py",
   "mimetype": "text/x-python",
   "name": "python",
   "nbconvert_exporter": "python",
   "pygments_lexer": "ipython3",
   "version": "3.7.10"
  }
 },
 "nbformat": 4,
 "nbformat_minor": 5
}
