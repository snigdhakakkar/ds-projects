{
  "nbformat": 4,
  "nbformat_minor": 0,
  "metadata": {
    "colab": {
      "name": "ann_model.ipynb",
      "provenance": [],
      "mount_file_id": "19Hp2UWKnWf3HMaBOxAxSlami7-wyySTr",
      "authorship_tag": "ABX9TyPe9m6fCC7Q81DB9rdXtfp2",
      "include_colab_link": true
    },
    "kernelspec": {
      "name": "python3",
      "display_name": "Python 3"
    },
    "language_info": {
      "name": "python"
    },
    "accelerator": "GPU"
  },
  "cells": [
    {
      "cell_type": "markdown",
      "metadata": {
        "id": "view-in-github",
        "colab_type": "text"
      },
      "source": [
        "<a href=\"https://colab.research.google.com/github/snigdhakakkar/ds-projects/blob/main/ann_model.ipynb\" target=\"_parent\"><img src=\"https://colab.research.google.com/assets/colab-badge.svg\" alt=\"Open In Colab\"/></a>"
      ]
    },
    {
      "cell_type": "markdown",
      "source": [
        "**Test if the GPU is running**"
      ],
      "metadata": {
        "id": "eqegzqv5B2ne"
      }
    },
    {
      "cell_type": "code",
      "source": [
        "import tensorflow as tf\n",
        "tf.test.gpu_device_name()"
      ],
      "metadata": {
        "colab": {
          "base_uri": "https://localhost:8080/",
          "height": 35
        },
        "id": "VeNu05QtBczh",
        "outputId": "25bfd1d6-f0b4-47f5-ae5f-a567f178b593"
      },
      "execution_count": 1,
      "outputs": [
        {
          "output_type": "execute_result",
          "data": {
            "text/plain": [
              "'/device:GPU:0'"
            ],
            "application/vnd.google.colaboratory.intrinsic+json": {
              "type": "string"
            }
          },
          "metadata": {},
          "execution_count": 1
        }
      ]
    },
    {
      "cell_type": "markdown",
      "source": [
        "**Which GPU are you using**"
      ],
      "metadata": {
        "id": "diZ8L-dGCEA1"
      }
    },
    {
      "cell_type": "code",
      "execution_count": 2,
      "metadata": {
        "colab": {
          "base_uri": "https://localhost:8080/"
        },
        "id": "Batb9V8aAULp",
        "outputId": "155ce9fe-5580-4bca-eb27-842d5b91e9c9"
      },
      "outputs": [
        {
          "output_type": "execute_result",
          "data": {
            "text/plain": [
              "[name: \"/device:CPU:0\"\n",
              " device_type: \"CPU\"\n",
              " memory_limit: 268435456\n",
              " locality {\n",
              " }\n",
              " incarnation: 8625313734695752082\n",
              " xla_global_id: -1, name: \"/device:GPU:0\"\n",
              " device_type: \"GPU\"\n",
              " memory_limit: 11320098816\n",
              " locality {\n",
              "   bus_id: 1\n",
              "   links {\n",
              "   }\n",
              " }\n",
              " incarnation: 320796699824387819\n",
              " physical_device_desc: \"device: 0, name: Tesla K80, pci bus id: 0000:00:04.0, compute capability: 3.7\"\n",
              " xla_global_id: 416903419]"
            ]
          },
          "metadata": {},
          "execution_count": 2
        }
      ],
      "source": [
        "from tensorflow.python.client import device_lib\n",
        "device_lib.list_local_devices()"
      ]
    },
    {
      "cell_type": "markdown",
      "source": [
        "**RAM Information**"
      ],
      "metadata": {
        "id": "tamwUw1UCdNg"
      }
    },
    {
      "cell_type": "code",
      "source": [
        "!cat /proc/meminfo"
      ],
      "metadata": {
        "colab": {
          "base_uri": "https://localhost:8080/"
        },
        "id": "_qzYkVtRCXex",
        "outputId": "cd12a9ef-27e3-4a20-9d9a-7e6bfe07d545"
      },
      "execution_count": 3,
      "outputs": [
        {
          "output_type": "stream",
          "name": "stdout",
          "text": [
            "MemTotal:       13298572 kB\n",
            "MemFree:         9115368 kB\n",
            "MemAvailable:   11764896 kB\n",
            "Buffers:          117468 kB\n",
            "Cached:          2538720 kB\n",
            "SwapCached:            0 kB\n",
            "Active:          1593024 kB\n",
            "Inactive:        2266936 kB\n",
            "Active(anon):    1012364 kB\n",
            "Inactive(anon):     2508 kB\n",
            "Active(file):     580660 kB\n",
            "Inactive(file):  2264428 kB\n",
            "Unevictable:           0 kB\n",
            "Mlocked:               0 kB\n",
            "SwapTotal:             0 kB\n",
            "SwapFree:              0 kB\n",
            "Dirty:               288 kB\n",
            "Writeback:             0 kB\n",
            "AnonPages:       1203852 kB\n",
            "Mapped:           700064 kB\n",
            "Shmem:              3264 kB\n",
            "KReclaimable:      92036 kB\n",
            "Slab:             148604 kB\n",
            "SReclaimable:      92036 kB\n",
            "SUnreclaim:        56568 kB\n",
            "KernelStack:        6320 kB\n",
            "PageTables:        15116 kB\n",
            "NFS_Unstable:          0 kB\n",
            "Bounce:                0 kB\n",
            "WritebackTmp:          0 kB\n",
            "CommitLimit:     6649284 kB\n",
            "Committed_AS:    4333232 kB\n",
            "VmallocTotal:   34359738367 kB\n",
            "VmallocUsed:       48028 kB\n",
            "VmallocChunk:          0 kB\n",
            "Percpu:             1504 kB\n",
            "AnonHugePages:      2048 kB\n",
            "ShmemHugePages:        0 kB\n",
            "ShmemPmdMapped:        0 kB\n",
            "FileHugePages:         0 kB\n",
            "FilePmdMapped:         0 kB\n",
            "CmaTotal:              0 kB\n",
            "CmaFree:               0 kB\n",
            "HugePages_Total:       0\n",
            "HugePages_Free:        0\n",
            "HugePages_Rsvd:        0\n",
            "HugePages_Surp:        0\n",
            "Hugepagesize:       2048 kB\n",
            "Hugetlb:               0 kB\n",
            "DirectMap4k:      203584 kB\n",
            "DirectMap2M:     5036032 kB\n",
            "DirectMap1G:    10485760 kB\n"
          ]
        }
      ]
    },
    {
      "cell_type": "markdown",
      "source": [
        "**CPU Information**"
      ],
      "metadata": {
        "id": "NfNp2CMyCnTV"
      }
    },
    {
      "cell_type": "code",
      "source": [
        "!cat /proc/cpuinfo"
      ],
      "metadata": {
        "colab": {
          "base_uri": "https://localhost:8080/"
        },
        "id": "Pbs8GxxwCh37",
        "outputId": "6e8b28e4-0e81-4ac0-f986-0b49019c9da9"
      },
      "execution_count": 4,
      "outputs": [
        {
          "output_type": "stream",
          "name": "stdout",
          "text": [
            "processor\t: 0\n",
            "vendor_id\t: GenuineIntel\n",
            "cpu family\t: 6\n",
            "model\t\t: 63\n",
            "model name\t: Intel(R) Xeon(R) CPU @ 2.30GHz\n",
            "stepping\t: 0\n",
            "microcode\t: 0x1\n",
            "cpu MHz\t\t: 2299.998\n",
            "cache size\t: 46080 KB\n",
            "physical id\t: 0\n",
            "siblings\t: 2\n",
            "core id\t\t: 0\n",
            "cpu cores\t: 1\n",
            "apicid\t\t: 0\n",
            "initial apicid\t: 0\n",
            "fpu\t\t: yes\n",
            "fpu_exception\t: yes\n",
            "cpuid level\t: 13\n",
            "wp\t\t: yes\n",
            "flags\t\t: fpu vme de pse tsc msr pae mce cx8 apic sep mtrr pge mca cmov pat pse36 clflush mmx fxsr sse sse2 ss ht syscall nx pdpe1gb rdtscp lm constant_tsc rep_good nopl xtopology nonstop_tsc cpuid tsc_known_freq pni pclmulqdq ssse3 fma cx16 pcid sse4_1 sse4_2 x2apic movbe popcnt aes xsave avx f16c rdrand hypervisor lahf_lm abm invpcid_single ssbd ibrs ibpb stibp fsgsbase tsc_adjust bmi1 avx2 smep bmi2 erms invpcid xsaveopt arat md_clear arch_capabilities\n",
            "bugs\t\t: cpu_meltdown spectre_v1 spectre_v2 spec_store_bypass l1tf mds swapgs\n",
            "bogomips\t: 4599.99\n",
            "clflush size\t: 64\n",
            "cache_alignment\t: 64\n",
            "address sizes\t: 46 bits physical, 48 bits virtual\n",
            "power management:\n",
            "\n",
            "processor\t: 1\n",
            "vendor_id\t: GenuineIntel\n",
            "cpu family\t: 6\n",
            "model\t\t: 63\n",
            "model name\t: Intel(R) Xeon(R) CPU @ 2.30GHz\n",
            "stepping\t: 0\n",
            "microcode\t: 0x1\n",
            "cpu MHz\t\t: 2299.998\n",
            "cache size\t: 46080 KB\n",
            "physical id\t: 0\n",
            "siblings\t: 2\n",
            "core id\t\t: 0\n",
            "cpu cores\t: 1\n",
            "apicid\t\t: 1\n",
            "initial apicid\t: 1\n",
            "fpu\t\t: yes\n",
            "fpu_exception\t: yes\n",
            "cpuid level\t: 13\n",
            "wp\t\t: yes\n",
            "flags\t\t: fpu vme de pse tsc msr pae mce cx8 apic sep mtrr pge mca cmov pat pse36 clflush mmx fxsr sse sse2 ss ht syscall nx pdpe1gb rdtscp lm constant_tsc rep_good nopl xtopology nonstop_tsc cpuid tsc_known_freq pni pclmulqdq ssse3 fma cx16 pcid sse4_1 sse4_2 x2apic movbe popcnt aes xsave avx f16c rdrand hypervisor lahf_lm abm invpcid_single ssbd ibrs ibpb stibp fsgsbase tsc_adjust bmi1 avx2 smep bmi2 erms invpcid xsaveopt arat md_clear arch_capabilities\n",
            "bugs\t\t: cpu_meltdown spectre_v1 spectre_v2 spec_store_bypass l1tf mds swapgs\n",
            "bogomips\t: 4599.99\n",
            "clflush size\t: 64\n",
            "cache_alignment\t: 64\n",
            "address sizes\t: 46 bits physical, 48 bits virtual\n",
            "power management:\n",
            "\n"
          ]
        }
      ]
    },
    {
      "cell_type": "markdown",
      "source": [
        "**Running ANN Using Google Colab**"
      ],
      "metadata": {
        "id": "wMQ-Pc25C6ow"
      }
    },
    {
      "cell_type": "code",
      "source": [
        "from google.colab import drive\n",
        "drive.mount('/content/drive', force_remount=True)"
      ],
      "metadata": {
        "colab": {
          "base_uri": "https://localhost:8080/"
        },
        "id": "W3WB9iGjC_dx",
        "outputId": "72b68079-59aa-4b0f-8c34-e717d70d66cf"
      },
      "execution_count": 6,
      "outputs": [
        {
          "output_type": "stream",
          "name": "stdout",
          "text": [
            "Mounted at /content/drive\n"
          ]
        }
      ]
    },
    {
      "cell_type": "code",
      "source": [
        "!pip install -q keras"
      ],
      "metadata": {
        "id": "gmjRjNcrDKGQ"
      },
      "execution_count": 7,
      "outputs": []
    },
    {
      "cell_type": "code",
      "source": [
        "import pandas as pd"
      ],
      "metadata": {
        "id": "0aNQkVFJEDK8"
      },
      "execution_count": 8,
      "outputs": []
    },
    {
      "cell_type": "code",
      "source": [
        "#Part 1 - Data Preprocessing\n",
        "\n",
        "#Importing other libraries\n",
        "\n",
        "import numpy as np\n",
        "import matplotlib.pyplot as plt"
      ],
      "metadata": {
        "id": "BqvbUDl8EHUu"
      },
      "execution_count": 9,
      "outputs": []
    },
    {
      "cell_type": "code",
      "source": [
        "# Importing the dataset\n",
        "dataset = pd.read_csv('/content/drive/MyDrive/Colab Notebooks/ANN/Churn_Modelling.csv')\n",
        "X = dataset.iloc[:, 3:13]\n",
        "y = dataset.iloc[:, 13]"
      ],
      "metadata": {
        "id": "bYDEK-u6EUxU"
      },
      "execution_count": 10,
      "outputs": []
    },
    {
      "cell_type": "code",
      "source": [
        "#Create dummy variables\n",
        "geography=pd.get_dummies(X[\"Geography\"],drop_first=True)\n",
        "gender=pd.get_dummies(X['Gender'],drop_first=True)"
      ],
      "metadata": {
        "id": "hTd7w6TQEgfm"
      },
      "execution_count": 11,
      "outputs": []
    },
    {
      "cell_type": "code",
      "source": [
        "## Concatenate the Data Frames\n",
        "\n",
        "X=pd.concat([X,geography,gender],axis=1)"
      ],
      "metadata": {
        "id": "OtnYYoTcEjnx"
      },
      "execution_count": 12,
      "outputs": []
    },
    {
      "cell_type": "code",
      "source": [
        "## Drop Unnecessary columns\n",
        "X=X.drop(['Geography','Gender'],axis=1)"
      ],
      "metadata": {
        "id": "FnbqDqv9EmRj"
      },
      "execution_count": 13,
      "outputs": []
    },
    {
      "cell_type": "code",
      "source": [
        "# Splitting the dataset into the Training set and Test set\n",
        "from sklearn.model_selection import train_test_split\n",
        "X_train, X_test, y_train, y_test = train_test_split(X, y, test_size = 0.2, random_state = 0)"
      ],
      "metadata": {
        "id": "e_Q5WFcWEpCL"
      },
      "execution_count": 14,
      "outputs": []
    },
    {
      "cell_type": "code",
      "source": [
        "# Feature Scaling\n",
        "from sklearn.preprocessing import StandardScaler\n",
        "sc = StandardScaler()\n",
        "X_train = sc.fit_transform(X_train)\n",
        "X_test = sc.transform(X_test)"
      ],
      "metadata": {
        "id": "Fhto91E3EsaP"
      },
      "execution_count": 15,
      "outputs": []
    },
    {
      "cell_type": "code",
      "source": [
        "train_x = np.asarray(X_train)\n",
        "train_y = np.asarray(y_train)\n",
        "test_x = np.asarray(X_test)\n",
        "test_y = np.asarray(y_test)"
      ],
      "metadata": {
        "id": "zlWqR9kkEvzV"
      },
      "execution_count": 16,
      "outputs": []
    },
    {
      "cell_type": "code",
      "source": [
        "# Part 2 - Now let's make the ANN!\n",
        "\n",
        "# Importing the Keras libraries and packages\n",
        "import keras\n",
        "from keras.models import Sequential #creating any model\n",
        "from keras.layers import Dense #hidden layers\n",
        "from keras.layers import LeakyReLU,PReLU,ELU #activation functions\n",
        "from keras.layers import Dropout #regularization parameter"
      ],
      "metadata": {
        "id": "YymMRLJVEyYZ"
      },
      "execution_count": 18,
      "outputs": []
    },
    {
      "cell_type": "code",
      "source": [
        "# Initialising the ANN\n",
        "classifier = Sequential()"
      ],
      "metadata": {
        "id": "wQfdGKBvE2FL"
      },
      "execution_count": 19,
      "outputs": []
    },
    {
      "cell_type": "code",
      "source": [
        "# Adding the input layer and the first hidden layer\n",
        "classifier.add(Dense(units = 6, kernel_initializer = 'he_uniform',activation='relu',input_dim = 11))"
      ],
      "metadata": {
        "id": "uldMRse3FAdz"
      },
      "execution_count": 20,
      "outputs": []
    },
    {
      "cell_type": "code",
      "source": [
        "# Adding the second hidden layer\n",
        "classifier.add(Dense(units = 6, kernel_initializer = 'he_uniform',activation='relu'))"
      ],
      "metadata": {
        "id": "r6xjixPXFFgh"
      },
      "execution_count": 21,
      "outputs": []
    },
    {
      "cell_type": "code",
      "source": [
        "# Adding the output layer\n",
        "classifier.add(Dense(units = 1, kernel_initializer = 'glorot_uniform', activation = 'sigmoid'))"
      ],
      "metadata": {
        "id": "gdVHjWX_FIbx"
      },
      "execution_count": 22,
      "outputs": []
    },
    {
      "cell_type": "code",
      "source": [
        "# Compiling the ANN\n",
        "classifier.compile(optimizer = 'adam', loss = 'binary_crossentropy', metrics = ['accuracy'])"
      ],
      "metadata": {
        "id": "Z-ppdkl1FJ1Q"
      },
      "execution_count": 23,
      "outputs": []
    },
    {
      "cell_type": "code",
      "source": [
        "classifier.summary()"
      ],
      "metadata": {
        "colab": {
          "base_uri": "https://localhost:8080/"
        },
        "id": "IIou2K5tFOF0",
        "outputId": "15afe924-b31d-48d0-fbf5-96ab30d1e46b"
      },
      "execution_count": 24,
      "outputs": [
        {
          "output_type": "stream",
          "name": "stdout",
          "text": [
            "Model: \"sequential\"\n",
            "_________________________________________________________________\n",
            " Layer (type)                Output Shape              Param #   \n",
            "=================================================================\n",
            " dense (Dense)               (None, 6)                 72        \n",
            "                                                                 \n",
            " dense_1 (Dense)             (None, 6)                 42        \n",
            "                                                                 \n",
            " dense_2 (Dense)             (None, 1)                 7         \n",
            "                                                                 \n",
            "=================================================================\n",
            "Total params: 121\n",
            "Trainable params: 121\n",
            "Non-trainable params: 0\n",
            "_________________________________________________________________\n"
          ]
        }
      ]
    },
    {
      "cell_type": "code",
      "source": [
        "# Fitting the ANN to the Training set\n",
        "model_history=classifier.fit(train_x, train_y,validation_split=0.33, batch_size = 10, epochs = 100)"
      ],
      "metadata": {
        "colab": {
          "base_uri": "https://localhost:8080/"
        },
        "id": "J6f6HtdEFQBw",
        "outputId": "14d32603-7ba0-415f-d260-23b782237c2e"
      },
      "execution_count": 25,
      "outputs": [
        {
          "output_type": "stream",
          "name": "stdout",
          "text": [
            "Epoch 1/100\n",
            "536/536 [==============================] - 9s 7ms/step - loss: 0.5471 - accuracy: 0.7882 - val_loss: 0.4783 - val_accuracy: 0.7955\n",
            "Epoch 2/100\n",
            "536/536 [==============================] - 4s 7ms/step - loss: 0.4614 - accuracy: 0.7962 - val_loss: 0.4534 - val_accuracy: 0.7955\n",
            "Epoch 3/100\n",
            "536/536 [==============================] - 3s 5ms/step - loss: 0.4424 - accuracy: 0.7962 - val_loss: 0.4419 - val_accuracy: 0.7955\n",
            "Epoch 4/100\n",
            "536/536 [==============================] - 3s 6ms/step - loss: 0.4308 - accuracy: 0.7962 - val_loss: 0.4332 - val_accuracy: 0.7955\n",
            "Epoch 5/100\n",
            "536/536 [==============================] - 4s 7ms/step - loss: 0.4219 - accuracy: 0.7962 - val_loss: 0.4270 - val_accuracy: 0.7955\n",
            "Epoch 6/100\n",
            "536/536 [==============================] - 3s 5ms/step - loss: 0.4158 - accuracy: 0.7972 - val_loss: 0.4226 - val_accuracy: 0.8141\n",
            "Epoch 7/100\n",
            "536/536 [==============================] - 3s 5ms/step - loss: 0.4102 - accuracy: 0.8214 - val_loss: 0.4180 - val_accuracy: 0.8186\n",
            "Epoch 8/100\n",
            "536/536 [==============================] - 4s 7ms/step - loss: 0.4055 - accuracy: 0.8261 - val_loss: 0.4138 - val_accuracy: 0.8194\n",
            "Epoch 9/100\n",
            "536/536 [==============================] - 3s 5ms/step - loss: 0.4007 - accuracy: 0.8278 - val_loss: 0.4106 - val_accuracy: 0.8205\n",
            "Epoch 10/100\n",
            "536/536 [==============================] - 3s 5ms/step - loss: 0.3968 - accuracy: 0.8287 - val_loss: 0.4070 - val_accuracy: 0.8232\n",
            "Epoch 11/100\n",
            "536/536 [==============================] - 3s 5ms/step - loss: 0.3931 - accuracy: 0.8289 - val_loss: 0.4027 - val_accuracy: 0.8247\n",
            "Epoch 12/100\n",
            "536/536 [==============================] - 3s 5ms/step - loss: 0.3888 - accuracy: 0.8274 - val_loss: 0.3990 - val_accuracy: 0.8266\n",
            "Epoch 13/100\n",
            "536/536 [==============================] - 3s 5ms/step - loss: 0.3851 - accuracy: 0.8276 - val_loss: 0.3966 - val_accuracy: 0.8273\n",
            "Epoch 14/100\n",
            "536/536 [==============================] - 3s 5ms/step - loss: 0.3818 - accuracy: 0.8296 - val_loss: 0.3932 - val_accuracy: 0.8296\n",
            "Epoch 15/100\n",
            "536/536 [==============================] - 3s 5ms/step - loss: 0.3779 - accuracy: 0.8377 - val_loss: 0.3907 - val_accuracy: 0.8406\n",
            "Epoch 16/100\n",
            "536/536 [==============================] - 3s 5ms/step - loss: 0.3748 - accuracy: 0.8433 - val_loss: 0.3880 - val_accuracy: 0.8383\n",
            "Epoch 17/100\n",
            "536/536 [==============================] - 3s 5ms/step - loss: 0.3718 - accuracy: 0.8459 - val_loss: 0.3863 - val_accuracy: 0.8395\n",
            "Epoch 18/100\n",
            "536/536 [==============================] - 4s 7ms/step - loss: 0.3693 - accuracy: 0.8466 - val_loss: 0.3843 - val_accuracy: 0.8406\n",
            "Epoch 19/100\n",
            "536/536 [==============================] - 3s 5ms/step - loss: 0.3670 - accuracy: 0.8487 - val_loss: 0.3820 - val_accuracy: 0.8391\n",
            "Epoch 20/100\n",
            "536/536 [==============================] - 3s 5ms/step - loss: 0.3650 - accuracy: 0.8498 - val_loss: 0.3818 - val_accuracy: 0.8406\n",
            "Epoch 21/100\n",
            "536/536 [==============================] - 3s 5ms/step - loss: 0.3633 - accuracy: 0.8500 - val_loss: 0.3806 - val_accuracy: 0.8410\n",
            "Epoch 22/100\n",
            "536/536 [==============================] - 3s 5ms/step - loss: 0.3618 - accuracy: 0.8533 - val_loss: 0.3787 - val_accuracy: 0.8410\n",
            "Epoch 23/100\n",
            "536/536 [==============================] - 3s 5ms/step - loss: 0.3601 - accuracy: 0.8535 - val_loss: 0.3775 - val_accuracy: 0.8429\n",
            "Epoch 24/100\n",
            "536/536 [==============================] - 3s 5ms/step - loss: 0.3589 - accuracy: 0.8546 - val_loss: 0.3770 - val_accuracy: 0.8432\n",
            "Epoch 25/100\n",
            "536/536 [==============================] - 3s 6ms/step - loss: 0.3579 - accuracy: 0.8531 - val_loss: 0.3755 - val_accuracy: 0.8451\n",
            "Epoch 26/100\n",
            "536/536 [==============================] - 3s 6ms/step - loss: 0.3567 - accuracy: 0.8556 - val_loss: 0.3750 - val_accuracy: 0.8440\n",
            "Epoch 27/100\n",
            "536/536 [==============================] - 3s 5ms/step - loss: 0.3551 - accuracy: 0.8546 - val_loss: 0.3747 - val_accuracy: 0.8440\n",
            "Epoch 28/100\n",
            "536/536 [==============================] - 3s 5ms/step - loss: 0.3543 - accuracy: 0.8552 - val_loss: 0.3745 - val_accuracy: 0.8429\n",
            "Epoch 29/100\n",
            "536/536 [==============================] - 3s 5ms/step - loss: 0.3537 - accuracy: 0.8550 - val_loss: 0.3722 - val_accuracy: 0.8451\n",
            "Epoch 30/100\n",
            "536/536 [==============================] - 4s 7ms/step - loss: 0.3527 - accuracy: 0.8530 - val_loss: 0.3721 - val_accuracy: 0.8466\n",
            "Epoch 31/100\n",
            "536/536 [==============================] - 4s 7ms/step - loss: 0.3519 - accuracy: 0.8548 - val_loss: 0.3738 - val_accuracy: 0.8448\n",
            "Epoch 32/100\n",
            "536/536 [==============================] - 3s 5ms/step - loss: 0.3510 - accuracy: 0.8554 - val_loss: 0.3720 - val_accuracy: 0.8482\n",
            "Epoch 33/100\n",
            "536/536 [==============================] - 3s 5ms/step - loss: 0.3506 - accuracy: 0.8563 - val_loss: 0.3719 - val_accuracy: 0.8463\n",
            "Epoch 34/100\n",
            "536/536 [==============================] - 3s 5ms/step - loss: 0.3494 - accuracy: 0.8561 - val_loss: 0.3741 - val_accuracy: 0.8429\n",
            "Epoch 35/100\n",
            "536/536 [==============================] - 3s 5ms/step - loss: 0.3493 - accuracy: 0.8584 - val_loss: 0.3685 - val_accuracy: 0.8489\n",
            "Epoch 36/100\n",
            "536/536 [==============================] - 3s 6ms/step - loss: 0.3481 - accuracy: 0.8580 - val_loss: 0.3699 - val_accuracy: 0.8478\n",
            "Epoch 37/100\n",
            "536/536 [==============================] - 3s 6ms/step - loss: 0.3475 - accuracy: 0.8593 - val_loss: 0.3694 - val_accuracy: 0.8489\n",
            "Epoch 38/100\n",
            "536/536 [==============================] - 3s 5ms/step - loss: 0.3468 - accuracy: 0.8593 - val_loss: 0.3663 - val_accuracy: 0.8512\n",
            "Epoch 39/100\n",
            "536/536 [==============================] - 3s 6ms/step - loss: 0.3458 - accuracy: 0.8612 - val_loss: 0.3680 - val_accuracy: 0.8485\n",
            "Epoch 40/100\n",
            "536/536 [==============================] - 3s 5ms/step - loss: 0.3451 - accuracy: 0.8615 - val_loss: 0.3659 - val_accuracy: 0.8497\n",
            "Epoch 41/100\n",
            "536/536 [==============================] - 3s 5ms/step - loss: 0.3448 - accuracy: 0.8600 - val_loss: 0.3656 - val_accuracy: 0.8523\n",
            "Epoch 42/100\n",
            "536/536 [==============================] - 3s 5ms/step - loss: 0.3440 - accuracy: 0.8597 - val_loss: 0.3647 - val_accuracy: 0.8516\n",
            "Epoch 43/100\n",
            "536/536 [==============================] - 3s 6ms/step - loss: 0.3435 - accuracy: 0.8599 - val_loss: 0.3641 - val_accuracy: 0.8531\n",
            "Epoch 44/100\n",
            "536/536 [==============================] - 3s 5ms/step - loss: 0.3428 - accuracy: 0.8614 - val_loss: 0.3630 - val_accuracy: 0.8512\n",
            "Epoch 45/100\n",
            "536/536 [==============================] - 3s 5ms/step - loss: 0.3414 - accuracy: 0.8612 - val_loss: 0.3638 - val_accuracy: 0.8519\n",
            "Epoch 46/100\n",
            "536/536 [==============================] - 3s 5ms/step - loss: 0.3420 - accuracy: 0.8610 - val_loss: 0.3635 - val_accuracy: 0.8546\n",
            "Epoch 47/100\n",
            "536/536 [==============================] - 3s 5ms/step - loss: 0.3409 - accuracy: 0.8615 - val_loss: 0.3639 - val_accuracy: 0.8508\n",
            "Epoch 48/100\n",
            "536/536 [==============================] - 3s 5ms/step - loss: 0.3408 - accuracy: 0.8623 - val_loss: 0.3634 - val_accuracy: 0.8546\n",
            "Epoch 49/100\n",
            "536/536 [==============================] - 3s 5ms/step - loss: 0.3408 - accuracy: 0.8623 - val_loss: 0.3633 - val_accuracy: 0.8523\n",
            "Epoch 50/100\n",
            "536/536 [==============================] - 3s 5ms/step - loss: 0.3403 - accuracy: 0.8627 - val_loss: 0.3610 - val_accuracy: 0.8542\n",
            "Epoch 51/100\n",
            "536/536 [==============================] - 3s 5ms/step - loss: 0.3394 - accuracy: 0.8621 - val_loss: 0.3626 - val_accuracy: 0.8508\n",
            "Epoch 52/100\n",
            "536/536 [==============================] - 3s 5ms/step - loss: 0.3397 - accuracy: 0.8617 - val_loss: 0.3627 - val_accuracy: 0.8519\n",
            "Epoch 53/100\n",
            "536/536 [==============================] - 3s 6ms/step - loss: 0.3386 - accuracy: 0.8610 - val_loss: 0.3623 - val_accuracy: 0.8538\n",
            "Epoch 54/100\n",
            "536/536 [==============================] - 3s 6ms/step - loss: 0.3384 - accuracy: 0.8615 - val_loss: 0.3599 - val_accuracy: 0.8516\n",
            "Epoch 55/100\n",
            "536/536 [==============================] - 3s 5ms/step - loss: 0.3384 - accuracy: 0.8617 - val_loss: 0.3616 - val_accuracy: 0.8554\n",
            "Epoch 56/100\n",
            "536/536 [==============================] - 3s 5ms/step - loss: 0.3382 - accuracy: 0.8610 - val_loss: 0.3598 - val_accuracy: 0.8550\n",
            "Epoch 57/100\n",
            "536/536 [==============================] - 3s 5ms/step - loss: 0.3369 - accuracy: 0.8630 - val_loss: 0.3615 - val_accuracy: 0.8531\n",
            "Epoch 58/100\n",
            "536/536 [==============================] - 3s 5ms/step - loss: 0.3371 - accuracy: 0.8627 - val_loss: 0.3585 - val_accuracy: 0.8565\n",
            "Epoch 59/100\n",
            "536/536 [==============================] - 3s 5ms/step - loss: 0.3368 - accuracy: 0.8610 - val_loss: 0.3593 - val_accuracy: 0.8554\n",
            "Epoch 60/100\n",
            "536/536 [==============================] - 3s 6ms/step - loss: 0.3370 - accuracy: 0.8617 - val_loss: 0.3598 - val_accuracy: 0.8561\n",
            "Epoch 61/100\n",
            "536/536 [==============================] - 3s 6ms/step - loss: 0.3364 - accuracy: 0.8623 - val_loss: 0.3595 - val_accuracy: 0.8531\n",
            "Epoch 62/100\n",
            "536/536 [==============================] - 3s 6ms/step - loss: 0.3365 - accuracy: 0.8610 - val_loss: 0.3603 - val_accuracy: 0.8546\n",
            "Epoch 63/100\n",
            "536/536 [==============================] - 4s 7ms/step - loss: 0.3362 - accuracy: 0.8615 - val_loss: 0.3580 - val_accuracy: 0.8576\n",
            "Epoch 64/100\n",
            "536/536 [==============================] - 3s 5ms/step - loss: 0.3359 - accuracy: 0.8636 - val_loss: 0.3588 - val_accuracy: 0.8584\n",
            "Epoch 65/100\n",
            "536/536 [==============================] - 3s 6ms/step - loss: 0.3356 - accuracy: 0.8600 - val_loss: 0.3621 - val_accuracy: 0.8527\n",
            "Epoch 66/100\n",
            "536/536 [==============================] - 3s 5ms/step - loss: 0.3362 - accuracy: 0.8608 - val_loss: 0.3584 - val_accuracy: 0.8523\n",
            "Epoch 67/100\n",
            "536/536 [==============================] - 3s 5ms/step - loss: 0.3357 - accuracy: 0.8638 - val_loss: 0.3573 - val_accuracy: 0.8573\n",
            "Epoch 68/100\n",
            "536/536 [==============================] - 3s 5ms/step - loss: 0.3356 - accuracy: 0.8632 - val_loss: 0.3568 - val_accuracy: 0.8580\n",
            "Epoch 69/100\n",
            "536/536 [==============================] - 3s 5ms/step - loss: 0.3353 - accuracy: 0.8634 - val_loss: 0.3565 - val_accuracy: 0.8591\n",
            "Epoch 70/100\n",
            "536/536 [==============================] - 3s 6ms/step - loss: 0.3358 - accuracy: 0.8625 - val_loss: 0.3571 - val_accuracy: 0.8569\n",
            "Epoch 71/100\n",
            "536/536 [==============================] - 3s 5ms/step - loss: 0.3354 - accuracy: 0.8612 - val_loss: 0.3564 - val_accuracy: 0.8573\n",
            "Epoch 72/100\n",
            "536/536 [==============================] - 3s 5ms/step - loss: 0.3351 - accuracy: 0.8614 - val_loss: 0.3557 - val_accuracy: 0.8584\n",
            "Epoch 73/100\n",
            "536/536 [==============================] - 3s 5ms/step - loss: 0.3355 - accuracy: 0.8617 - val_loss: 0.3557 - val_accuracy: 0.8584\n",
            "Epoch 74/100\n",
            "536/536 [==============================] - 3s 5ms/step - loss: 0.3344 - accuracy: 0.8634 - val_loss: 0.3588 - val_accuracy: 0.8565\n",
            "Epoch 75/100\n",
            "536/536 [==============================] - 3s 5ms/step - loss: 0.3349 - accuracy: 0.8604 - val_loss: 0.3579 - val_accuracy: 0.8595\n",
            "Epoch 76/100\n",
            "536/536 [==============================] - 3s 5ms/step - loss: 0.3345 - accuracy: 0.8617 - val_loss: 0.3579 - val_accuracy: 0.8561\n",
            "Epoch 77/100\n",
            "536/536 [==============================] - 3s 5ms/step - loss: 0.3340 - accuracy: 0.8625 - val_loss: 0.3563 - val_accuracy: 0.8588\n",
            "Epoch 78/100\n",
            "536/536 [==============================] - 3s 5ms/step - loss: 0.3342 - accuracy: 0.8628 - val_loss: 0.3575 - val_accuracy: 0.8573\n",
            "Epoch 79/100\n",
            "536/536 [==============================] - 3s 5ms/step - loss: 0.3347 - accuracy: 0.8628 - val_loss: 0.3556 - val_accuracy: 0.8576\n",
            "Epoch 80/100\n",
            "536/536 [==============================] - 3s 5ms/step - loss: 0.3341 - accuracy: 0.8632 - val_loss: 0.3553 - val_accuracy: 0.8584\n",
            "Epoch 81/100\n",
            "536/536 [==============================] - 3s 5ms/step - loss: 0.3348 - accuracy: 0.8615 - val_loss: 0.3562 - val_accuracy: 0.8576\n",
            "Epoch 82/100\n",
            "536/536 [==============================] - 3s 5ms/step - loss: 0.3341 - accuracy: 0.8634 - val_loss: 0.3565 - val_accuracy: 0.8573\n",
            "Epoch 83/100\n",
            "536/536 [==============================] - 3s 5ms/step - loss: 0.3342 - accuracy: 0.8617 - val_loss: 0.3600 - val_accuracy: 0.8554\n",
            "Epoch 84/100\n",
            "536/536 [==============================] - 3s 5ms/step - loss: 0.3338 - accuracy: 0.8612 - val_loss: 0.3566 - val_accuracy: 0.8576\n",
            "Epoch 85/100\n",
            "536/536 [==============================] - 3s 5ms/step - loss: 0.3333 - accuracy: 0.8634 - val_loss: 0.3607 - val_accuracy: 0.8538\n",
            "Epoch 86/100\n",
            "536/536 [==============================] - 3s 6ms/step - loss: 0.3342 - accuracy: 0.8617 - val_loss: 0.3546 - val_accuracy: 0.8576\n",
            "Epoch 87/100\n",
            "536/536 [==============================] - 3s 5ms/step - loss: 0.3333 - accuracy: 0.8627 - val_loss: 0.3567 - val_accuracy: 0.8554\n",
            "Epoch 88/100\n",
            "536/536 [==============================] - 3s 6ms/step - loss: 0.3329 - accuracy: 0.8630 - val_loss: 0.3573 - val_accuracy: 0.8565\n",
            "Epoch 89/100\n",
            "536/536 [==============================] - 3s 5ms/step - loss: 0.3335 - accuracy: 0.8630 - val_loss: 0.3564 - val_accuracy: 0.8584\n",
            "Epoch 90/100\n",
            "536/536 [==============================] - 3s 5ms/step - loss: 0.3333 - accuracy: 0.8643 - val_loss: 0.3556 - val_accuracy: 0.8580\n",
            "Epoch 91/100\n",
            "536/536 [==============================] - 3s 5ms/step - loss: 0.3328 - accuracy: 0.8617 - val_loss: 0.3578 - val_accuracy: 0.8565\n",
            "Epoch 92/100\n",
            "536/536 [==============================] - 3s 5ms/step - loss: 0.3330 - accuracy: 0.8597 - val_loss: 0.3564 - val_accuracy: 0.8569\n",
            "Epoch 93/100\n",
            "536/536 [==============================] - 3s 5ms/step - loss: 0.3325 - accuracy: 0.8612 - val_loss: 0.3597 - val_accuracy: 0.8569\n",
            "Epoch 94/100\n",
            "536/536 [==============================] - 3s 5ms/step - loss: 0.3329 - accuracy: 0.8597 - val_loss: 0.3547 - val_accuracy: 0.8599\n",
            "Epoch 95/100\n",
            "536/536 [==============================] - 3s 5ms/step - loss: 0.3327 - accuracy: 0.8630 - val_loss: 0.3559 - val_accuracy: 0.8569\n",
            "Epoch 96/100\n",
            "536/536 [==============================] - 3s 5ms/step - loss: 0.3322 - accuracy: 0.8621 - val_loss: 0.3548 - val_accuracy: 0.8607\n",
            "Epoch 97/100\n",
            "536/536 [==============================] - 3s 5ms/step - loss: 0.3331 - accuracy: 0.8614 - val_loss: 0.3568 - val_accuracy: 0.8561\n",
            "Epoch 98/100\n",
            "536/536 [==============================] - 3s 5ms/step - loss: 0.3326 - accuracy: 0.8630 - val_loss: 0.3560 - val_accuracy: 0.8569\n",
            "Epoch 99/100\n",
            "536/536 [==============================] - 3s 5ms/step - loss: 0.3322 - accuracy: 0.8630 - val_loss: 0.3564 - val_accuracy: 0.8569\n",
            "Epoch 100/100\n",
            "536/536 [==============================] - 3s 5ms/step - loss: 0.3326 - accuracy: 0.8604 - val_loss: 0.3555 - val_accuracy: 0.8599\n"
          ]
        }
      ]
    },
    {
      "cell_type": "code",
      "source": [
        "# list all data in history\n",
        "\n",
        "print(model_history.history.keys())"
      ],
      "metadata": {
        "colab": {
          "base_uri": "https://localhost:8080/"
        },
        "id": "aP0g1UKWG17O",
        "outputId": "9dedebc9-0d21-4dad-ea3c-4a2780351663"
      },
      "execution_count": 26,
      "outputs": [
        {
          "output_type": "stream",
          "name": "stdout",
          "text": [
            "dict_keys(['loss', 'accuracy', 'val_loss', 'val_accuracy'])\n"
          ]
        }
      ]
    },
    {
      "cell_type": "code",
      "source": [
        "# summarize history for accuracy\n",
        "plt.plot(model_history.history['accuracy'])\n",
        "plt.plot(model_history.history['val_accuracy'])\n",
        "plt.title('model accuracy')\n",
        "plt.ylabel('accuracy')\n",
        "plt.xlabel('epoch')\n",
        "plt.legend(['train', 'test'], loc='upper left')\n",
        "plt.show()"
      ],
      "metadata": {
        "colab": {
          "base_uri": "https://localhost:8080/",
          "height": 295
        },
        "id": "FO67oog8G3Ny",
        "outputId": "84b36575-58ff-453f-eb28-fcbd16feae3d"
      },
      "execution_count": 27,
      "outputs": [
        {
          "output_type": "display_data",
          "data": {
            "text/plain": [
              "<Figure size 432x288 with 1 Axes>"
            ],
            "image/png": "[encoded data removed]"
          },
          "metadata": {
            "needs_background": "light"
          }
        }
      ]
    },
    {
      "cell_type": "code",
      "source": [
        "# summarize history for loss\n",
        "plt.plot(model_history.history['loss'])\n",
        "plt.plot(model_history.history['val_loss'])\n",
        "plt.title('model loss')\n",
        "plt.ylabel('loss')\n",
        "plt.xlabel('epoch')\n",
        "plt.legend(['train', 'test'], loc='upper left')\n",
        "plt.show()"
      ],
      "metadata": {
        "colab": {
          "base_uri": "https://localhost:8080/",
          "height": 295
        },
        "id": "N6F04vbXHFOU",
        "outputId": "4aedb098-e018-4dd8-9d9e-df23f7f89b77"
      },
      "execution_count": 28,
      "outputs": [
        {
          "output_type": "display_data",
          "data": {
            "text/plain": [
              "<Figure size 432x288 with 1 Axes>"
            ],
            "image/png": "[encoded data removed]"
          },
          "metadata": {
            "needs_background": "light"
          }
        }
      ]
    },
    {
      "cell_type": "code",
      "source": [
        "# Part 3 - Making the predictions and evaluating the model\n",
        "\n",
        "# Predicting the Test set results\n",
        "y_pred = classifier.predict(test_x)\n",
        "y_pred = (y_pred > 0.5)\n",
        "\n",
        "# Making the Confusion Matrix\n",
        "from sklearn.metrics import confusion_matrix\n",
        "cm = confusion_matrix(test_y, y_pred)\n",
        "\n",
        "# Calculate the Accuracy\n",
        "from sklearn.metrics import accuracy_score\n",
        "score=accuracy_score(y_pred,test_y)"
      ],
      "metadata": {
        "id": "eFo0qcjUHIpw"
      },
      "execution_count": 29,
      "outputs": []
    },
    {
      "cell_type": "code",
      "source": [
        "cm"
      ],
      "metadata": {
        "colab": {
          "base_uri": "https://localhost:8080/"
        },
        "id": "1rvHaNBUHUvz",
        "outputId": "2f753e41-dbcd-449f-d3ef-6889cdf89830"
      },
      "execution_count": 30,
      "outputs": [
        {
          "output_type": "execute_result",
          "data": {
            "text/plain": [
              "array([[1522,   73],\n",
              "       [ 204,  201]])"
            ]
          },
          "metadata": {},
          "execution_count": 30
        }
      ]
    },
    {
      "cell_type": "code",
      "source": [
        "score"
      ],
      "metadata": {
        "colab": {
          "base_uri": "https://localhost:8080/"
        },
        "id": "Rc6stpDGHWQI",
        "outputId": "246d9a01-2e21-490b-d9d0-4a0bdd8c3aa7"
      },
      "execution_count": 31,
      "outputs": [
        {
          "output_type": "execute_result",
          "data": {
            "text/plain": [
              "0.8615"
            ]
          },
          "metadata": {},
          "execution_count": 31
        }
      ]
    }
  ]
}