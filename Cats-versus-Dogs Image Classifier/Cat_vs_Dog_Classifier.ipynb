{
 "cells": [
  {
   "cell_type": "code",
   "execution_count": 1,
   "id": "9ac8de74",
   "metadata": {},
   "outputs": [],
   "source": [
    "##Data Augmentation Using Python And Keras\n",
    "from tensorflow.keras.preprocessing.image import ImageDataGenerator, array_to_img, img_to_array, load_img"
   ]
  },
  {
   "cell_type": "code",
   "execution_count": 2,
   "id": "643bbc11",
   "metadata": {},
   "outputs": [],
   "source": [
    "datagen = ImageDataGenerator(rotation_range=40,\n",
    "                            width_shift_range=0.2,\n",
    "                            height_shift_range=0.2,\n",
    "                            shear_range=0.2,\n",
    "                            zoom_range=0.2,\n",
    "                            horizontal_flip=True,\n",
    "                            fill_mode='nearest')"
   ]
  },
  {
   "cell_type": "code",
   "execution_count": 3,
   "id": "f69e9032",
   "metadata": {},
   "outputs": [],
   "source": [
    "img1 = load_img('dog_or_cat_1.jpg')\n",
    "img2 = load_img('dog_or_cat_2.jpg')"
   ]
  },
  {
   "cell_type": "code",
   "execution_count": 5,
   "id": "78ecdc29",
   "metadata": {},
   "outputs": [],
   "source": [
    "x1 = img_to_array(img1) #this is a numpy array with shape (3, 150, 150)\n",
    "x1 = x1.reshape((1,) + x1.shape)#this is a numpy array with shape (1, 3, 150, 150)"
   ]
  },
  {
   "cell_type": "code",
   "execution_count": 6,
   "id": "f7000d80",
   "metadata": {},
   "outputs": [],
   "source": [
    "x2 = img_to_array(img1) #this is a numpy array with shape (3, 150, 150)\n",
    "x2 = x2.reshape((1,) + x2.shape)#this is a numpy array with shape (1, 3, 150, 150)"
   ]
  },
  {
   "cell_type": "code",
   "execution_count": 8,
   "id": "325d8b38",
   "metadata": {},
   "outputs": [],
   "source": [
    "#the .flow command below generates batches of randomly transformed images\n",
    "#and saves the results to the 'preview/' directory\n",
    "i = 0\n",
    "for batch in datagen.flow(x1, batch_size=1,\n",
    "                         save_to_dir='cats_dogs_images', save_prefix='dog', save_format='jpeg'):\n",
    "    i +=1\n",
    "    if i > 20:\n",
    "        break; #otherwise the generator would loop indefinitely"
   ]
  },
  {
   "cell_type": "code",
   "execution_count": 9,
   "id": "04c36c12",
   "metadata": {},
   "outputs": [],
   "source": [
    "i = 0\n",
    "for batch in datagen.flow(x2, batch_size=1,\n",
    "                         save_to_dir='cats_dogs_images', save_prefix='cat', save_format='jpeg'):\n",
    "    i +=1\n",
    "    if i > 20:\n",
    "        break; #otherwise the generator would loop indefinitely"
   ]
  },
  {
   "cell_type": "code",
   "execution_count": null,
   "id": "f18c6669",
   "metadata": {},
   "outputs": [],
   "source": []
  }
 ],
 "metadata": {
  "kernelspec": {
   "display_name": "Python 3 (ipykernel)",
   "language": "python",
   "name": "python3"
  },
  "language_info": {
   "codemirror_mode": {
    "name": "ipython",
    "version": 3
   },
   "file_extension": ".py",
   "mimetype": "text/x-python",
   "name": "python",
   "nbconvert_exporter": "python",
   "pygments_lexer": "ipython3",
   "version": "3.7.10"
  }
 },
 "nbformat": 4,
 "nbformat_minor": 5
}
