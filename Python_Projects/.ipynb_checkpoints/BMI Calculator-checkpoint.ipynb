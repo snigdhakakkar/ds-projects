{
 "cells": [
  {
   "cell_type": "code",
   "execution_count": 10,
   "metadata": {},
   "outputs": [
    {
     "name": "stdout",
     "output_type": "stream",
     "text": [
      "Enter your height in centimeters: 175\n",
      "Enter your weight in Kgs: 81.5\n"
     ]
    }
   ],
   "source": [
    "Height = float(input(\"Enter your height in centimeters: \"))\n",
    "Weight = float(input(\"Enter your weight in Kgs: \"))"
   ]
  },
  {
   "cell_type": "code",
   "execution_count": 11,
   "metadata": {},
   "outputs": [],
   "source": [
    "Height = Height/100\n",
    "BMI = Weight/(Height*Height)"
   ]
  },
  {
   "cell_type": "code",
   "execution_count": 12,
   "metadata": {},
   "outputs": [
    {
     "name": "stdout",
     "output_type": "stream",
     "text": [
      "your Body Mass Index is:  26.612244897959183\n"
     ]
    }
   ],
   "source": [
    "print(\"your Body Mass Index is: \", BMI)"
   ]
  },
  {
   "cell_type": "code",
   "execution_count": 13,
   "metadata": {},
   "outputs": [
    {
     "name": "stdout",
     "output_type": "stream",
     "text": [
      "you are overweight\n"
     ]
    }
   ],
   "source": [
    "if(BMI>0):\n",
    "    if(BMI<=16):\n",
    "        print(\"you are severly underweight\")\n",
    "    elif(BMI<=18.5):\n",
    "        print(\"you are underweight\")\n",
    "    elif(BMI<=25):\n",
    "        print(\"you are healthy\")\n",
    "    elif(BMI<=30):\n",
    "        print(\"you are overweight\")\n",
    "    else:\n",
    "        print(\"you are severly overweight\")\n",
    "else: print(\"enter valid details.\")"
   ]
  },
  {
   "cell_type": "code",
   "execution_count": null,
   "metadata": {},
   "outputs": [],
   "source": []
  }
 ],
 "metadata": {
  "kernelspec": {
   "display_name": "p36workshop",
   "language": "python",
   "name": "p36workshop"
  },
  "language_info": {
   "codemirror_mode": {
    "name": "ipython",
    "version": 3
   },
   "file_extension": ".py",
   "mimetype": "text/x-python",
   "name": "python",
   "nbconvert_exporter": "python",
   "pygments_lexer": "ipython3",
   "version": "3.8.8"
  }
 },
 "nbformat": 4,
 "nbformat_minor": 2
}
