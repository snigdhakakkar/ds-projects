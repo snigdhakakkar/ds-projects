{
  "nbformat": 4,
  "nbformat_minor": 0,
  "metadata": {
    "colab": {
      "name": "HummingBird_HandsOn.ipynb",
      "provenance": [],
      "authorship_tag": "ABX9TyPUmYfo2Mi9H14DtRk3uXUI",
      "include_colab_link": true
    },
    "kernelspec": {
      "name": "python3",
      "display_name": "Python 3"
    },
    "language_info": {
      "name": "python"
    },
    "accelerator": "GPU"
  },
  "cells": [
    {
      "cell_type": "markdown",
      "metadata": {
        "id": "view-in-github",
        "colab_type": "text"
      },
      "source": [
        "<a href=\"https://colab.research.google.com/github/snigdhakakkar/ds-projects/blob/main/HummingBird_HandsOn.ipynb\" target=\"_parent\"><img src=\"https://colab.research.google.com/assets/colab-badge.svg\" alt=\"Open In Colab\"/></a>"
      ]
    },
    {
      "cell_type": "code",
      "execution_count": 1,
      "metadata": {
        "colab": {
          "base_uri": "https://localhost:8080/"
        },
        "id": "sVl4RI5-c5VZ",
        "outputId": "dffbe0ce-b933-4616-abc1-ec82514ae439"
      },
      "outputs": [
        {
          "output_type": "stream",
          "name": "stdout",
          "text": [
            "Collecting hummingbird-ml\n",
            "  Downloading hummingbird_ml-0.4.4-py2.py3-none-any.whl (181 kB)\n",
            "\u001b[?25l\r\u001b[K     |█▉                              | 10 kB 28.1 MB/s eta 0:00:01\r\u001b[K     |███▋                            | 20 kB 30.1 MB/s eta 0:00:01\r\u001b[K     |█████▍                          | 30 kB 27.3 MB/s eta 0:00:01\r\u001b[K     |███████▎                        | 40 kB 14.8 MB/s eta 0:00:01\r\u001b[K     |█████████                       | 51 kB 13.0 MB/s eta 0:00:01\r\u001b[K     |██████████▉                     | 61 kB 15.0 MB/s eta 0:00:01\r\u001b[K     |████████████▋                   | 71 kB 15.2 MB/s eta 0:00:01\r\u001b[K     |██████████████▌                 | 81 kB 15.0 MB/s eta 0:00:01\r\u001b[K     |████████████████▎               | 92 kB 16.3 MB/s eta 0:00:01\r\u001b[K     |██████████████████              | 102 kB 16.4 MB/s eta 0:00:01\r\u001b[K     |███████████████████▉            | 112 kB 16.4 MB/s eta 0:00:01\r\u001b[K     |█████████████████████▊          | 122 kB 16.4 MB/s eta 0:00:01\r\u001b[K     |███████████████████████▌        | 133 kB 16.4 MB/s eta 0:00:01\r\u001b[K     |█████████████████████████▎      | 143 kB 16.4 MB/s eta 0:00:01\r\u001b[K     |███████████████████████████     | 153 kB 16.4 MB/s eta 0:00:01\r\u001b[K     |█████████████████████████████   | 163 kB 16.4 MB/s eta 0:00:01\r\u001b[K     |██████████████████████████████▊ | 174 kB 16.4 MB/s eta 0:00:01\r\u001b[K     |████████████████████████████████| 181 kB 16.4 MB/s \n",
            "\u001b[?25hRequirement already satisfied: torch>=1.4 in /usr/local/lib/python3.7/dist-packages (from hummingbird-ml) (1.11.0+cu113)\n",
            "Requirement already satisfied: numpy>=1.15 in /usr/local/lib/python3.7/dist-packages (from hummingbird-ml) (1.21.6)\n",
            "Requirement already satisfied: scikit-learn>=0.21.3 in /usr/local/lib/python3.7/dist-packages (from hummingbird-ml) (1.0.2)\n",
            "Requirement already satisfied: dill in /usr/local/lib/python3.7/dist-packages (from hummingbird-ml) (0.3.4)\n",
            "Collecting onnxconverter-common>=1.6.0\n",
            "  Downloading onnxconverter_common-1.9.0-py2.py3-none-any.whl (78 kB)\n",
            "\u001b[K     |████████████████████████████████| 78 kB 7.3 MB/s \n",
            "\u001b[?25hRequirement already satisfied: scipy in /usr/local/lib/python3.7/dist-packages (from hummingbird-ml) (1.4.1)\n",
            "Requirement already satisfied: psutil in /usr/local/lib/python3.7/dist-packages (from hummingbird-ml) (5.4.8)\n",
            "Requirement already satisfied: protobuf in /usr/local/lib/python3.7/dist-packages (from onnxconverter-common>=1.6.0->hummingbird-ml) (3.17.3)\n",
            "Collecting onnx\n",
            "  Downloading onnx-1.11.0-cp37-cp37m-manylinux_2_12_x86_64.manylinux2010_x86_64.whl (12.8 MB)\n",
            "\u001b[K     |████████████████████████████████| 12.8 MB 62.0 MB/s \n",
            "\u001b[?25hRequirement already satisfied: joblib>=0.11 in /usr/local/lib/python3.7/dist-packages (from scikit-learn>=0.21.3->hummingbird-ml) (1.1.0)\n",
            "Requirement already satisfied: threadpoolctl>=2.0.0 in /usr/local/lib/python3.7/dist-packages (from scikit-learn>=0.21.3->hummingbird-ml) (3.1.0)\n",
            "Requirement already satisfied: typing-extensions in /usr/local/lib/python3.7/dist-packages (from torch>=1.4->hummingbird-ml) (4.2.0)\n",
            "Requirement already satisfied: six>=1.9 in /usr/local/lib/python3.7/dist-packages (from protobuf->onnxconverter-common>=1.6.0->hummingbird-ml) (1.15.0)\n",
            "Installing collected packages: onnx, onnxconverter-common, hummingbird-ml\n",
            "Successfully installed hummingbird-ml-0.4.4 onnx-1.11.0 onnxconverter-common-1.9.0\n"
          ]
        }
      ],
      "source": [
        "!pip install hummingbird-ml"
      ]
    },
    {
      "cell_type": "code",
      "source": [
        "import numpy as np\n",
        "from sklearn.ensemble import RandomForestClassifier\n",
        "from hummingbird.ml import convert"
      ],
      "metadata": {
        "id": "o5QJMlh3dScC"
      },
      "execution_count": 2,
      "outputs": []
    },
    {
      "cell_type": "code",
      "source": [
        "#Create some random data for binary classification\n",
        "num_classes = 2\n",
        "X = np.array(np.random.rand(100000, 28), dtype=np.float32)\n",
        "y = np.random.randint(num_classes, size=100000)"
      ],
      "metadata": {
        "id": "aHOvfkn6dh98"
      },
      "execution_count": 3,
      "outputs": []
    },
    {
      "cell_type": "code",
      "source": [
        "X,y"
      ],
      "metadata": {
        "colab": {
          "base_uri": "https://localhost:8080/"
        },
        "id": "O6FYIV38d9CL",
        "outputId": "50722bdf-1003-4512-e45d-140716c3cd22"
      },
      "execution_count": 4,
      "outputs": [
        {
          "output_type": "execute_result",
          "data": {
            "text/plain": [
              "(array([[0.20072106, 0.46281466, 0.00144892, ..., 0.638564  , 0.1325547 ,\n",
              "         0.3193301 ],\n",
              "        [0.7492228 , 0.95705444, 0.72353935, ..., 0.53959256, 0.9766869 ,\n",
              "         0.67178214],\n",
              "        [0.28901348, 0.6212805 , 0.4171722 , ..., 0.78528637, 0.8720872 ,\n",
              "         0.8024708 ],\n",
              "        ...,\n",
              "        [0.703081  , 0.55915785, 0.3315759 , ..., 0.3803472 , 0.48824486,\n",
              "         0.3296266 ],\n",
              "        [0.7353663 , 0.3603087 , 0.8545712 , ..., 0.53375083, 0.27847132,\n",
              "         0.3940103 ],\n",
              "        [0.32934016, 0.17771159, 0.40683866, ..., 0.6783303 , 0.18045756,\n",
              "         0.3339306 ]], dtype=float32), array([0, 0, 0, ..., 1, 1, 0]))"
            ]
          },
          "metadata": {},
          "execution_count": 4
        }
      ]
    },
    {
      "cell_type": "code",
      "source": [
        "#create and train a model (scikit-learn RandomForestClassifier in this case)\n",
        "sk1_model = RandomForestClassifier(n_estimators=10, max_depth=10)\n",
        "sk1_model.fit(X,y)"
      ],
      "metadata": {
        "colab": {
          "base_uri": "https://localhost:8080/"
        },
        "id": "fO0m2zJUd_TP",
        "outputId": "af15d474-d238-4091-92fd-624eacdd29fa"
      },
      "execution_count": 5,
      "outputs": [
        {
          "output_type": "execute_result",
          "data": {
            "text/plain": [
              "RandomForestClassifier(max_depth=10, n_estimators=10)"
            ]
          },
          "metadata": {},
          "execution_count": 5
        }
      ]
    },
    {
      "cell_type": "code",
      "source": [
        "#Use Hummingbird to convert the model to PyTorch\n",
        "model = convert(sk1_model, 'pytorch')"
      ],
      "metadata": {
        "colab": {
          "base_uri": "https://localhost:8080/"
        },
        "id": "6v2S7PZXeYEr",
        "outputId": "f6a2c401-b9de-4a49-ca46-4511b70e889f"
      },
      "execution_count": 6,
      "outputs": [
        {
          "output_type": "stream",
          "name": "stderr",
          "text": [
            "/usr/local/lib/python3.7/dist-packages/sklearn/utils/deprecation.py:103: FutureWarning: Attribute `n_features_` was deprecated in version 1.0 and will be removed in 1.2. Use `n_features_in_` instead.\n",
            "  warnings.warn(msg, category=FutureWarning)\n"
          ]
        }
      ]
    },
    {
      "cell_type": "code",
      "source": [
        "%%timeit -r 3\n",
        "\n",
        "#run Hummingbird on CPU\n",
        "model.predict(X)"
      ],
      "metadata": {
        "colab": {
          "base_uri": "https://localhost:8080/"
        },
        "id": "6iYOK0C2enR9",
        "outputId": "b4bc2e75-df4b-4ca7-93a0-5c14830217bd"
      },
      "execution_count": 8,
      "outputs": [
        {
          "output_type": "stream",
          "name": "stdout",
          "text": [
            "10 loops, best of 3: 149 ms per loop\n"
          ]
        }
      ]
    },
    {
      "cell_type": "code",
      "source": [
        "%%time\n",
        "\n",
        "#RUN PREDICTIONS ON GPU\n",
        "model.to('cuda')\n",
        "model.predict(X)"
      ],
      "metadata": {
        "colab": {
          "base_uri": "https://localhost:8080/"
        },
        "id": "1T0hR7oYe76D",
        "outputId": "7d6f7ae7-4e37-4397-e330-ce6b014fe972"
      },
      "execution_count": 9,
      "outputs": [
        {
          "output_type": "stream",
          "name": "stdout",
          "text": [
            "CPU times: user 2.55 s, sys: 1.57 s, total: 4.11 s\n",
            "Wall time: 8.78 s\n"
          ]
        }
      ]
    }
  ]
}