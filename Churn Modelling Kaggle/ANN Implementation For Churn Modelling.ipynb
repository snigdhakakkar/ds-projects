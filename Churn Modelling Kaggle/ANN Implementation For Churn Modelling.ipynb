{
 "cells": [
  {
   "cell_type": "code",
   "execution_count": 1,
   "id": "75321b3d",
   "metadata": {},
   "outputs": [],
   "source": [
    "# Artificial Neural Network\n",
    "\n",
    "\n",
    "# Part 1 - Data Preprocessing\n",
    "\n",
    "# Importing the libraries"
   ]
  },
  {
   "cell_type": "code",
   "execution_count": 2,
   "id": "6fffb92e",
   "metadata": {},
   "outputs": [],
   "source": [
    "import numpy as np\n",
    "import matplotlib.pyplot as plt\n",
    "import pandas as pd"
   ]
  },
  {
   "cell_type": "code",
   "execution_count": 3,
   "id": "3d015185",
   "metadata": {},
   "outputs": [],
   "source": [
    "# Importing the dataset\n",
    "dataset = pd.read_csv('datasets/Churn_Modelling.csv')\n",
    "X = dataset.iloc[:, 3:13]\n",
    "y = dataset.iloc[:, 13]"
   ]
  },
  {
   "cell_type": "code",
   "execution_count": 4,
   "id": "d0768809",
   "metadata": {},
   "outputs": [],
   "source": [
    "#Create dummy variables\n",
    "geography=pd.get_dummies(X[\"Geography\"],drop_first=True)\n",
    "gender=pd.get_dummies(X['Gender'],drop_first=True)"
   ]
  },
  {
   "cell_type": "code",
   "execution_count": 5,
   "id": "0de96eab",
   "metadata": {},
   "outputs": [],
   "source": [
    "## Concatenate the Data Frames\n",
    "\n",
    "X=pd.concat([X,geography,gender],axis=1)"
   ]
  },
  {
   "cell_type": "code",
   "execution_count": 6,
   "id": "b95aa33c",
   "metadata": {},
   "outputs": [],
   "source": [
    "## Drop Unnecessary columns\n",
    "X=X.drop(['Geography','Gender'],axis=1)"
   ]
  },
  {
   "cell_type": "code",
   "execution_count": 7,
   "id": "76d1875d",
   "metadata": {},
   "outputs": [
    {
     "data": {
      "text/html": [
       "<div>\n",
       "<style scoped>\n",
       "    .dataframe tbody tr th:only-of-type {\n",
       "        vertical-align: middle;\n",
       "    }\n",
       "\n",
       "    .dataframe tbody tr th {\n",
       "        vertical-align: top;\n",
       "    }\n",
       "\n",
       "    .dataframe thead th {\n",
       "        text-align: right;\n",
       "    }\n",
       "</style>\n",
       "<table border=\"1\" class=\"dataframe\">\n",
       "  <thead>\n",
       "    <tr style=\"text-align: right;\">\n",
       "      <th></th>\n",
       "      <th>CreditScore</th>\n",
       "      <th>Age</th>\n",
       "      <th>Tenure</th>\n",
       "      <th>Balance</th>\n",
       "      <th>NumOfProducts</th>\n",
       "      <th>HasCrCard</th>\n",
       "      <th>IsActiveMember</th>\n",
       "      <th>EstimatedSalary</th>\n",
       "      <th>Germany</th>\n",
       "      <th>Spain</th>\n",
       "      <th>Male</th>\n",
       "    </tr>\n",
       "  </thead>\n",
       "  <tbody>\n",
       "    <tr>\n",
       "      <th>0</th>\n",
       "      <td>619</td>\n",
       "      <td>42</td>\n",
       "      <td>2</td>\n",
       "      <td>0.00</td>\n",
       "      <td>1</td>\n",
       "      <td>1</td>\n",
       "      <td>1</td>\n",
       "      <td>101348.88</td>\n",
       "      <td>0</td>\n",
       "      <td>0</td>\n",
       "      <td>0</td>\n",
       "    </tr>\n",
       "    <tr>\n",
       "      <th>1</th>\n",
       "      <td>608</td>\n",
       "      <td>41</td>\n",
       "      <td>1</td>\n",
       "      <td>83807.86</td>\n",
       "      <td>1</td>\n",
       "      <td>0</td>\n",
       "      <td>1</td>\n",
       "      <td>112542.58</td>\n",
       "      <td>0</td>\n",
       "      <td>1</td>\n",
       "      <td>0</td>\n",
       "    </tr>\n",
       "    <tr>\n",
       "      <th>2</th>\n",
       "      <td>502</td>\n",
       "      <td>42</td>\n",
       "      <td>8</td>\n",
       "      <td>159660.80</td>\n",
       "      <td>3</td>\n",
       "      <td>1</td>\n",
       "      <td>0</td>\n",
       "      <td>113931.57</td>\n",
       "      <td>0</td>\n",
       "      <td>0</td>\n",
       "      <td>0</td>\n",
       "    </tr>\n",
       "    <tr>\n",
       "      <th>3</th>\n",
       "      <td>699</td>\n",
       "      <td>39</td>\n",
       "      <td>1</td>\n",
       "      <td>0.00</td>\n",
       "      <td>2</td>\n",
       "      <td>0</td>\n",
       "      <td>0</td>\n",
       "      <td>93826.63</td>\n",
       "      <td>0</td>\n",
       "      <td>0</td>\n",
       "      <td>0</td>\n",
       "    </tr>\n",
       "    <tr>\n",
       "      <th>4</th>\n",
       "      <td>850</td>\n",
       "      <td>43</td>\n",
       "      <td>2</td>\n",
       "      <td>125510.82</td>\n",
       "      <td>1</td>\n",
       "      <td>1</td>\n",
       "      <td>1</td>\n",
       "      <td>79084.10</td>\n",
       "      <td>0</td>\n",
       "      <td>1</td>\n",
       "      <td>0</td>\n",
       "    </tr>\n",
       "  </tbody>\n",
       "</table>\n",
       "</div>"
      ],
      "text/plain": [
       "   CreditScore  Age  Tenure    Balance  NumOfProducts  HasCrCard  \\\n",
       "0          619   42       2       0.00              1          1   \n",
       "1          608   41       1   83807.86              1          0   \n",
       "2          502   42       8  159660.80              3          1   \n",
       "3          699   39       1       0.00              2          0   \n",
       "4          850   43       2  125510.82              1          1   \n",
       "\n",
       "   IsActiveMember  EstimatedSalary  Germany  Spain  Male  \n",
       "0               1        101348.88        0      0     0  \n",
       "1               1        112542.58        0      1     0  \n",
       "2               0        113931.57        0      0     0  \n",
       "3               0         93826.63        0      0     0  \n",
       "4               1         79084.10        0      1     0  "
      ]
     },
     "execution_count": 7,
     "metadata": {},
     "output_type": "execute_result"
    }
   ],
   "source": [
    "X.head()"
   ]
  },
  {
   "cell_type": "code",
   "execution_count": 8,
   "id": "f372a92f",
   "metadata": {},
   "outputs": [
    {
     "data": {
      "text/plain": [
       "0    1\n",
       "1    0\n",
       "2    1\n",
       "3    0\n",
       "4    0\n",
       "Name: Exited, dtype: int64"
      ]
     },
     "execution_count": 8,
     "metadata": {},
     "output_type": "execute_result"
    }
   ],
   "source": [
    "y.head()"
   ]
  },
  {
   "cell_type": "code",
   "execution_count": 9,
   "id": "a2b19d50",
   "metadata": {},
   "outputs": [],
   "source": [
    "# Splitting the dataset into the Training set and Test set\n",
    "from sklearn.model_selection import train_test_split\n",
    "X_train, X_test, y_train, y_test = train_test_split(X, y, test_size = 0.2, random_state = 0)"
   ]
  },
  {
   "cell_type": "code",
   "execution_count": 10,
   "id": "f32fc417",
   "metadata": {},
   "outputs": [],
   "source": [
    "# Feature Scaling\n",
    "from sklearn.preprocessing import StandardScaler\n",
    "sc = StandardScaler()\n",
    "X_train = sc.fit_transform(X_train)\n",
    "X_test = sc.transform(X_test)"
   ]
  },
  {
   "cell_type": "code",
   "execution_count": 31,
   "id": "a6f217a9",
   "metadata": {},
   "outputs": [],
   "source": [
    "train_x = np.asarray(X_train)\n",
    "train_y = np.asarray(y_train)\n",
    "test_x = np.asarray(X_test)\n",
    "test_y = np.asarray(y_test)"
   ]
  },
  {
   "cell_type": "code",
   "execution_count": 17,
   "id": "00d77b01",
   "metadata": {},
   "outputs": [],
   "source": [
    "# Part 2 - Now let's make the ANN!\n",
    "\n",
    "# Importing the Keras libraries and packages\n",
    "from tensorflow import keras\n",
    "from tensorflow.keras.models import Sequential #creating any model\n",
    "from tensorflow.keras.layers import Dense #hidden layers\n",
    "from tensorflow.keras.layers import LeakyReLU,PReLU,ELU #activation functions\n",
    "from tensorflow.keras.layers import Dropout #regularization parameter"
   ]
  },
  {
   "cell_type": "code",
   "execution_count": 18,
   "id": "e7b3e2b1",
   "metadata": {},
   "outputs": [
    {
     "data": {
      "text/plain": [
       "'2.2.4-tf'"
      ]
     },
     "execution_count": 18,
     "metadata": {},
     "output_type": "execute_result"
    }
   ],
   "source": [
    "keras.__version__"
   ]
  },
  {
   "cell_type": "code",
   "execution_count": 32,
   "id": "eb3c5325",
   "metadata": {},
   "outputs": [],
   "source": [
    "# Initialising the ANN\n",
    "classifier = Sequential()"
   ]
  },
  {
   "cell_type": "code",
   "execution_count": 33,
   "id": "6b915058",
   "metadata": {},
   "outputs": [],
   "source": [
    "# Adding the input layer and the first hidden layer\n",
    "classifier.add(Dense(units = 6, kernel_initializer = 'he_uniform',activation='relu',input_dim = 11))"
   ]
  },
  {
   "cell_type": "code",
   "execution_count": 34,
   "id": "cfb930b7",
   "metadata": {},
   "outputs": [],
   "source": [
    "# Adding the second hidden layer\n",
    "classifier.add(Dense(units = 6, kernel_initializer = 'he_uniform',activation='relu'))"
   ]
  },
  {
   "cell_type": "code",
   "execution_count": 35,
   "id": "f141b2c9",
   "metadata": {},
   "outputs": [],
   "source": [
    "# Adding the output layer\n",
    "classifier.add(Dense(units = 1, kernel_initializer = 'glorot_uniform', activation = 'sigmoid'))"
   ]
  },
  {
   "cell_type": "code",
   "execution_count": 36,
   "id": "c6222aab",
   "metadata": {},
   "outputs": [],
   "source": [
    "# Compiling the ANN\n",
    "classifier.compile(optimizer = 'adam', loss = 'binary_crossentropy', metrics = ['accuracy'])"
   ]
  },
  {
   "cell_type": "code",
   "execution_count": 37,
   "id": "5764a246",
   "metadata": {},
   "outputs": [
    {
     "name": "stdout",
     "output_type": "stream",
     "text": [
      "Model: \"sequential_1\"\n",
      "_________________________________________________________________\n",
      "Layer (type)                 Output Shape              Param #   \n",
      "=================================================================\n",
      "dense_3 (Dense)              (None, 6)                 72        \n",
      "_________________________________________________________________\n",
      "dense_4 (Dense)              (None, 6)                 42        \n",
      "_________________________________________________________________\n",
      "dense_5 (Dense)              (None, 1)                 7         \n",
      "=================================================================\n",
      "Total params: 121\n",
      "Trainable params: 121\n",
      "Non-trainable params: 0\n",
      "_________________________________________________________________\n"
     ]
    }
   ],
   "source": [
    "classifier.summary()"
   ]
  },
  {
   "cell_type": "code",
   "execution_count": 39,
   "id": "2787f5a8",
   "metadata": {},
   "outputs": [
    {
     "name": "stdout",
     "output_type": "stream",
     "text": [
      "Train on 5359 samples, validate on 2641 samples\n",
      "Epoch 1/100\n",
      "5359/5359 [==============================] - 4s 834us/sample - loss: 0.7042 - accuracy: 0.6162 - val_loss: 0.5162 - val_accuracy: 0.7955\n",
      "Epoch 2/100\n",
      "5359/5359 [==============================] - 2s 430us/sample - loss: 0.4947 - accuracy: 0.7972 - val_loss: 0.4735 - val_accuracy: 0.8008\n",
      "Epoch 3/100\n",
      "5359/5359 [==============================] - 2s 434us/sample - loss: 0.4559 - accuracy: 0.8028 - val_loss: 0.4453 - val_accuracy: 0.8099\n",
      "Epoch 4/100\n",
      "5359/5359 [==============================] - 3s 594us/sample - loss: 0.4286 - accuracy: 0.8151 - val_loss: 0.4306 - val_accuracy: 0.8126\n",
      "Epoch 5/100\n",
      "5359/5359 [==============================] - 3s 535us/sample - loss: 0.4143 - accuracy: 0.8261 - val_loss: 0.4213 - val_accuracy: 0.8145\n",
      "Epoch 6/100\n",
      "5359/5359 [==============================] - 3s 642us/sample - loss: 0.4042 - accuracy: 0.8285 - val_loss: 0.4141 - val_accuracy: 0.8171\n",
      "Epoch 7/100\n",
      "5359/5359 [==============================] - 3s 473us/sample - loss: 0.3949 - accuracy: 0.8334 - val_loss: 0.4059 - val_accuracy: 0.8251\n",
      "Epoch 8/100\n",
      "5359/5359 [==============================] - 3s 491us/sample - loss: 0.3851 - accuracy: 0.8373 - val_loss: 0.3967 - val_accuracy: 0.8330\n",
      "Epoch 9/100\n",
      "5359/5359 [==============================] - 3s 489us/sample - loss: 0.3749 - accuracy: 0.8436 - val_loss: 0.3877 - val_accuracy: 0.8342\n",
      "Epoch 10/100\n",
      "5359/5359 [==============================] - 3s 485us/sample - loss: 0.3660 - accuracy: 0.8509 - val_loss: 0.3793 - val_accuracy: 0.8436\n",
      "Epoch 11/100\n",
      "5359/5359 [==============================] - 3s 601us/sample - loss: 0.3600 - accuracy: 0.8548 - val_loss: 0.3745 - val_accuracy: 0.8448\n",
      "Epoch 12/100\n",
      "5359/5359 [==============================] - 3s 492us/sample - loss: 0.3552 - accuracy: 0.8572 - val_loss: 0.3713 - val_accuracy: 0.8421\n",
      "Epoch 13/100\n",
      "5359/5359 [==============================] - 3s 483us/sample - loss: 0.3519 - accuracy: 0.8556 - val_loss: 0.3686 - val_accuracy: 0.8455\n",
      "Epoch 14/100\n",
      "5359/5359 [==============================] - 3s 605us/sample - loss: 0.3489 - accuracy: 0.8558 - val_loss: 0.3661 - val_accuracy: 0.8497\n",
      "Epoch 15/100\n",
      "5359/5359 [==============================] - 3s 516us/sample - loss: 0.3469 - accuracy: 0.8563 - val_loss: 0.3654 - val_accuracy: 0.8516\n",
      "Epoch 16/100\n",
      "5359/5359 [==============================] - 3s 497us/sample - loss: 0.3447 - accuracy: 0.8586 - val_loss: 0.3655 - val_accuracy: 0.8497\n",
      "Epoch 17/100\n",
      "5359/5359 [==============================] - 3s 488us/sample - loss: 0.3437 - accuracy: 0.8572 - val_loss: 0.3645 - val_accuracy: 0.8504\n",
      "Epoch 18/100\n",
      "5359/5359 [==============================] - 3s 487us/sample - loss: 0.3425 - accuracy: 0.8578 - val_loss: 0.3635 - val_accuracy: 0.8531\n",
      "Epoch 19/100\n",
      "5359/5359 [==============================] - 3s 510us/sample - loss: 0.3422 - accuracy: 0.8593 - val_loss: 0.3634 - val_accuracy: 0.8527\n",
      "Epoch 20/100\n",
      "5359/5359 [==============================] - 3s 520us/sample - loss: 0.3412 - accuracy: 0.8587 - val_loss: 0.3626 - val_accuracy: 0.8538\n",
      "Epoch 21/100\n",
      "5359/5359 [==============================] - 3s 617us/sample - loss: 0.3404 - accuracy: 0.8558 - val_loss: 0.3622 - val_accuracy: 0.8527\n",
      "Epoch 22/100\n",
      "5359/5359 [==============================] - 3s 497us/sample - loss: 0.3399 - accuracy: 0.8567 - val_loss: 0.3618 - val_accuracy: 0.8531\n",
      "Epoch 23/100\n",
      "5359/5359 [==============================] - 3s 520us/sample - loss: 0.3389 - accuracy: 0.8576 - val_loss: 0.3628 - val_accuracy: 0.8516\n",
      "Epoch 24/100\n",
      "5359/5359 [==============================] - 3s 475us/sample - loss: 0.3388 - accuracy: 0.8584 - val_loss: 0.3612 - val_accuracy: 0.8527\n",
      "Epoch 25/100\n",
      "5359/5359 [==============================] - 3s 621us/sample - loss: 0.3382 - accuracy: 0.8565 - val_loss: 0.3636 - val_accuracy: 0.8523\n",
      "Epoch 26/100\n",
      "5359/5359 [==============================] - 3s 492us/sample - loss: 0.3379 - accuracy: 0.8561 - val_loss: 0.3611 - val_accuracy: 0.8516\n",
      "Epoch 27/100\n",
      "5359/5359 [==============================] - 3s 486us/sample - loss: 0.3375 - accuracy: 0.8578 - val_loss: 0.3601 - val_accuracy: 0.8527\n",
      "Epoch 28/100\n",
      "5359/5359 [==============================] - 3s 532us/sample - loss: 0.3362 - accuracy: 0.8582 - val_loss: 0.3594 - val_accuracy: 0.8557\n",
      "Epoch 29/100\n",
      "5359/5359 [==============================] - 3s 495us/sample - loss: 0.3364 - accuracy: 0.8582 - val_loss: 0.3608 - val_accuracy: 0.8519\n",
      "Epoch 30/100\n",
      "5359/5359 [==============================] - 3s 503us/sample - loss: 0.3370 - accuracy: 0.8578 - val_loss: 0.3598 - val_accuracy: 0.8527\n",
      "Epoch 31/100\n",
      "5359/5359 [==============================] - 3s 494us/sample - loss: 0.3363 - accuracy: 0.8587 - val_loss: 0.3594 - val_accuracy: 0.8569\n",
      "Epoch 32/100\n",
      "5359/5359 [==============================] - 3s 512us/sample - loss: 0.3356 - accuracy: 0.8587 - val_loss: 0.3593 - val_accuracy: 0.8569\n",
      "Epoch 33/100\n",
      "5359/5359 [==============================] - 3s 495us/sample - loss: 0.3356 - accuracy: 0.8589 - val_loss: 0.3589 - val_accuracy: 0.8550\n",
      "Epoch 34/100\n",
      "5359/5359 [==============================] - 3s 652us/sample - loss: 0.3352 - accuracy: 0.8602 - val_loss: 0.3586 - val_accuracy: 0.8554\n",
      "Epoch 35/100\n",
      "5359/5359 [==============================] - 3s 510us/sample - loss: 0.3346 - accuracy: 0.8606 - val_loss: 0.3598 - val_accuracy: 0.8516\n",
      "Epoch 36/100\n",
      "5359/5359 [==============================] - 3s 478us/sample - loss: 0.3349 - accuracy: 0.8574 - val_loss: 0.3582 - val_accuracy: 0.8542\n",
      "Epoch 37/100\n",
      "5359/5359 [==============================] - 3s 476us/sample - loss: 0.3347 - accuracy: 0.8586 - val_loss: 0.3571 - val_accuracy: 0.8595\n",
      "Epoch 38/100\n",
      "5359/5359 [==============================] - 3s 469us/sample - loss: 0.3337 - accuracy: 0.8589 - val_loss: 0.3558 - val_accuracy: 0.8595\n",
      "Epoch 39/100\n",
      "5359/5359 [==============================] - 3s 483us/sample - loss: 0.3340 - accuracy: 0.8606 - val_loss: 0.3576 - val_accuracy: 0.8599\n",
      "Epoch 40/100\n",
      "5359/5359 [==============================] - 3s 480us/sample - loss: 0.3338 - accuracy: 0.8604 - val_loss: 0.3568 - val_accuracy: 0.8595\n",
      "Epoch 41/100\n",
      "5359/5359 [==============================] - 3s 495us/sample - loss: 0.3335 - accuracy: 0.8597 - val_loss: 0.3557 - val_accuracy: 0.8580\n",
      "Epoch 42/100\n",
      "5359/5359 [==============================] - 3s 497us/sample - loss: 0.3331 - accuracy: 0.8587 - val_loss: 0.3554 - val_accuracy: 0.8599\n",
      "Epoch 43/100\n",
      "5359/5359 [==============================] - 3s 484us/sample - loss: 0.3326 - accuracy: 0.8591 - val_loss: 0.3559 - val_accuracy: 0.8584\n",
      "Epoch 44/100\n",
      "5359/5359 [==============================] - 3s 479us/sample - loss: 0.3330 - accuracy: 0.8595 - val_loss: 0.3545 - val_accuracy: 0.8588\n",
      "Epoch 45/100\n",
      "5359/5359 [==============================] - 3s 500us/sample - loss: 0.3322 - accuracy: 0.8612 - val_loss: 0.3558 - val_accuracy: 0.8576\n",
      "Epoch 46/100\n",
      "5359/5359 [==============================] - 3s 500us/sample - loss: 0.3323 - accuracy: 0.8617 - val_loss: 0.3557 - val_accuracy: 0.8595\n",
      "Epoch 47/100\n",
      "5359/5359 [==============================] - 3s 559us/sample - loss: 0.3319 - accuracy: 0.8627 - val_loss: 0.3559 - val_accuracy: 0.8557\n",
      "Epoch 48/100\n",
      "5359/5359 [==============================] - 3s 484us/sample - loss: 0.3318 - accuracy: 0.8608 - val_loss: 0.3539 - val_accuracy: 0.8603\n",
      "Epoch 49/100\n",
      "5359/5359 [==============================] - 3s 508us/sample - loss: 0.3313 - accuracy: 0.8636 - val_loss: 0.3557 - val_accuracy: 0.8561\n",
      "Epoch 50/100\n",
      "5359/5359 [==============================] - 4s 685us/sample - loss: 0.3314 - accuracy: 0.8604 - val_loss: 0.3550 - val_accuracy: 0.8576\n",
      "Epoch 51/100\n",
      "5359/5359 [==============================] - 4s 752us/sample - loss: 0.3311 - accuracy: 0.8623 - val_loss: 0.3538 - val_accuracy: 0.8603\n",
      "Epoch 52/100\n",
      "5359/5359 [==============================] - 3s 627us/sample - loss: 0.3311 - accuracy: 0.8621 - val_loss: 0.3539 - val_accuracy: 0.8573\n",
      "Epoch 53/100\n",
      "5359/5359 [==============================] - 3s 530us/sample - loss: 0.3308 - accuracy: 0.8617 - val_loss: 0.3545 - val_accuracy: 0.8573\n",
      "Epoch 54/100\n",
      "5359/5359 [==============================] - 3s 503us/sample - loss: 0.3305 - accuracy: 0.8627 - val_loss: 0.3537 - val_accuracy: 0.8591\n",
      "Epoch 55/100\n"
     ]
    },
    {
     "name": "stdout",
     "output_type": "stream",
     "text": [
      "5359/5359 [==============================] - 2s 460us/sample - loss: 0.3300 - accuracy: 0.8632 - val_loss: 0.3539 - val_accuracy: 0.8584\n",
      "Epoch 56/100\n",
      "5359/5359 [==============================] - 3s 486us/sample - loss: 0.3304 - accuracy: 0.8612 - val_loss: 0.3531 - val_accuracy: 0.8595\n",
      "Epoch 57/100\n",
      "5359/5359 [==============================] - 2s 466us/sample - loss: 0.3297 - accuracy: 0.8617 - val_loss: 0.3540 - val_accuracy: 0.8588\n",
      "Epoch 58/100\n",
      "5359/5359 [==============================] - 3s 480us/sample - loss: 0.3298 - accuracy: 0.8619 - val_loss: 0.3529 - val_accuracy: 0.8595\n",
      "Epoch 59/100\n",
      "5359/5359 [==============================] - 3s 539us/sample - loss: 0.3299 - accuracy: 0.8645 - val_loss: 0.3540 - val_accuracy: 0.8573\n",
      "Epoch 60/100\n",
      "5359/5359 [==============================] - 2s 438us/sample - loss: 0.3293 - accuracy: 0.8634 - val_loss: 0.3544 - val_accuracy: 0.8580\n",
      "Epoch 61/100\n",
      "5359/5359 [==============================] - 2s 426us/sample - loss: 0.3294 - accuracy: 0.8634 - val_loss: 0.3531 - val_accuracy: 0.8603\n",
      "Epoch 62/100\n",
      "5359/5359 [==============================] - 2s 433us/sample - loss: 0.3292 - accuracy: 0.8636 - val_loss: 0.3546 - val_accuracy: 0.8565\n",
      "Epoch 63/100\n",
      "5359/5359 [==============================] - 2s 440us/sample - loss: 0.3296 - accuracy: 0.8608 - val_loss: 0.3540 - val_accuracy: 0.8580\n",
      "Epoch 64/100\n",
      "5359/5359 [==============================] - 2s 460us/sample - loss: 0.3294 - accuracy: 0.8621 - val_loss: 0.3539 - val_accuracy: 0.8588\n",
      "Epoch 65/100\n",
      "5359/5359 [==============================] - 2s 434us/sample - loss: 0.3296 - accuracy: 0.8640 - val_loss: 0.3529 - val_accuracy: 0.8588\n",
      "Epoch 66/100\n",
      "5359/5359 [==============================] - 2s 449us/sample - loss: 0.3287 - accuracy: 0.8640 - val_loss: 0.3526 - val_accuracy: 0.8591\n",
      "Epoch 67/100\n",
      "5359/5359 [==============================] - 2s 429us/sample - loss: 0.3284 - accuracy: 0.8647 - val_loss: 0.3538 - val_accuracy: 0.8580\n",
      "Epoch 68/100\n",
      "5359/5359 [==============================] - 3s 579us/sample - loss: 0.3288 - accuracy: 0.8632 - val_loss: 0.3524 - val_accuracy: 0.8591\n",
      "Epoch 69/100\n",
      "5359/5359 [==============================] - 3s 481us/sample - loss: 0.3288 - accuracy: 0.8632 - val_loss: 0.3524 - val_accuracy: 0.8588\n",
      "Epoch 70/100\n",
      "5359/5359 [==============================] - 3s 494us/sample - loss: 0.3286 - accuracy: 0.8621 - val_loss: 0.3537 - val_accuracy: 0.8580\n",
      "Epoch 71/100\n",
      "5359/5359 [==============================] - 3s 484us/sample - loss: 0.3288 - accuracy: 0.8606 - val_loss: 0.3522 - val_accuracy: 0.8603\n",
      "Epoch 72/100\n",
      "5359/5359 [==============================] - 3s 623us/sample - loss: 0.3282 - accuracy: 0.8647 - val_loss: 0.3538 - val_accuracy: 0.8569\n",
      "Epoch 73/100\n",
      "5359/5359 [==============================] - 3s 508us/sample - loss: 0.3279 - accuracy: 0.8649 - val_loss: 0.3532 - val_accuracy: 0.8584\n",
      "Epoch 74/100\n",
      "5359/5359 [==============================] - 3s 492us/sample - loss: 0.3284 - accuracy: 0.8630 - val_loss: 0.3526 - val_accuracy: 0.8576\n",
      "Epoch 75/100\n",
      "5359/5359 [==============================] - 3s 497us/sample - loss: 0.3281 - accuracy: 0.8656 - val_loss: 0.3531 - val_accuracy: 0.8573\n",
      "Epoch 76/100\n",
      "5359/5359 [==============================] - 3s 486us/sample - loss: 0.3280 - accuracy: 0.8623 - val_loss: 0.3523 - val_accuracy: 0.8599\n",
      "Epoch 77/100\n",
      "5359/5359 [==============================] - 3s 506us/sample - loss: 0.3276 - accuracy: 0.8623 - val_loss: 0.3541 - val_accuracy: 0.8580\n",
      "Epoch 78/100\n",
      "5359/5359 [==============================] - 3s 478us/sample - loss: 0.3273 - accuracy: 0.8623 - val_loss: 0.3526 - val_accuracy: 0.8580\n",
      "Epoch 79/100\n",
      "5359/5359 [==============================] - 3s 527us/sample - loss: 0.3273 - accuracy: 0.8634 - val_loss: 0.3524 - val_accuracy: 0.8576\n",
      "Epoch 80/100\n",
      "5359/5359 [==============================] - 3s 499us/sample - loss: 0.3282 - accuracy: 0.8623 - val_loss: 0.3526 - val_accuracy: 0.8561\n",
      "Epoch 81/100\n",
      "5359/5359 [==============================] - 3s 484us/sample - loss: 0.3273 - accuracy: 0.8640 - val_loss: 0.3523 - val_accuracy: 0.8580\n",
      "Epoch 82/100\n",
      "5359/5359 [==============================] - 3s 526us/sample - loss: 0.3274 - accuracy: 0.8645 - val_loss: 0.3518 - val_accuracy: 0.8565\n",
      "Epoch 83/100\n",
      "5359/5359 [==============================] - 3s 494us/sample - loss: 0.3274 - accuracy: 0.8643 - val_loss: 0.3529 - val_accuracy: 0.8557\n",
      "Epoch 84/100\n",
      "5359/5359 [==============================] - 3s 499us/sample - loss: 0.3276 - accuracy: 0.8636 - val_loss: 0.3513 - val_accuracy: 0.8584\n",
      "Epoch 85/100\n",
      "5359/5359 [==============================] - 3s 521us/sample - loss: 0.3272 - accuracy: 0.8649 - val_loss: 0.3535 - val_accuracy: 0.8561\n",
      "Epoch 86/100\n",
      "5359/5359 [==============================] - 3s 486us/sample - loss: 0.3272 - accuracy: 0.8643 - val_loss: 0.3516 - val_accuracy: 0.8603\n",
      "Epoch 87/100\n",
      "5359/5359 [==============================] - 3s 499us/sample - loss: 0.3268 - accuracy: 0.8651 - val_loss: 0.3528 - val_accuracy: 0.8588\n",
      "Epoch 88/100\n",
      "5359/5359 [==============================] - 3s 498us/sample - loss: 0.3272 - accuracy: 0.8645 - val_loss: 0.3533 - val_accuracy: 0.8565\n",
      "Epoch 89/100\n",
      "5359/5359 [==============================] - 3s 506us/sample - loss: 0.3269 - accuracy: 0.8642 - val_loss: 0.3522 - val_accuracy: 0.8557\n",
      "Epoch 90/100\n",
      "5359/5359 [==============================] - 3s 518us/sample - loss: 0.3271 - accuracy: 0.8640 - val_loss: 0.3516 - val_accuracy: 0.8595\n",
      "Epoch 91/100\n",
      "5359/5359 [==============================] - 3s 503us/sample - loss: 0.3275 - accuracy: 0.8636 - val_loss: 0.3513 - val_accuracy: 0.8595\n",
      "Epoch 92/100\n",
      "5359/5359 [==============================] - 3s 475us/sample - loss: 0.3269 - accuracy: 0.8621 - val_loss: 0.3539 - val_accuracy: 0.8546\n",
      "Epoch 93/100\n",
      "5359/5359 [==============================] - 3s 476us/sample - loss: 0.3270 - accuracy: 0.8640 - val_loss: 0.3515 - val_accuracy: 0.8603\n",
      "Epoch 94/100\n",
      "5359/5359 [==============================] - 3s 480us/sample - loss: 0.3265 - accuracy: 0.8640 - val_loss: 0.3549 - val_accuracy: 0.8561\n",
      "Epoch 95/100\n",
      "5359/5359 [==============================] - 3s 542us/sample - loss: 0.3270 - accuracy: 0.8638 - val_loss: 0.3518 - val_accuracy: 0.8554\n",
      "Epoch 96/100\n",
      "5359/5359 [==============================] - 3s 504us/sample - loss: 0.3269 - accuracy: 0.8655 - val_loss: 0.3511 - val_accuracy: 0.8580\n",
      "Epoch 97/100\n",
      "5359/5359 [==============================] - 3s 489us/sample - loss: 0.3262 - accuracy: 0.8647 - val_loss: 0.3543 - val_accuracy: 0.8554\n",
      "Epoch 98/100\n",
      "5359/5359 [==============================] - 3s 506us/sample - loss: 0.3268 - accuracy: 0.8656 - val_loss: 0.3529 - val_accuracy: 0.8573\n",
      "Epoch 99/100\n",
      "5359/5359 [==============================] - 3s 523us/sample - loss: 0.3269 - accuracy: 0.8638 - val_loss: 0.3521 - val_accuracy: 0.8557\n",
      "Epoch 100/100\n",
      "5359/5359 [==============================] - 3s 503us/sample - loss: 0.3265 - accuracy: 0.8634 - val_loss: 0.3522 - val_accuracy: 0.8554\n"
     ]
    }
   ],
   "source": [
    "# Fitting the ANN to the Training set\n",
    "model_history=classifier.fit(train_x, train_y,validation_split=0.33, batch_size = 10, epochs = 100)"
   ]
  },
  {
   "cell_type": "code",
   "execution_count": 40,
   "id": "53fa7d49",
   "metadata": {},
   "outputs": [
    {
     "name": "stdout",
     "output_type": "stream",
     "text": [
      "dict_keys(['loss', 'accuracy', 'val_loss', 'val_accuracy'])\n"
     ]
    }
   ],
   "source": [
    "# list all data in history\n",
    "\n",
    "print(model_history.history.keys())"
   ]
  },
  {
   "cell_type": "code",
   "execution_count": 42,
   "id": "412330dd",
   "metadata": {},
   "outputs": [
    {
     "data": {
      "image/png": "[encoded data removed]",
      "text/plain": [
       "<Figure size 432x288 with 1 Axes>"
      ]
     },
     "metadata": {
      "needs_background": "light"
     },
     "output_type": "display_data"
    }
   ],
   "source": [
    "# summarize history for accuracy\n",
    "plt.plot(model_history.history['accuracy'])\n",
    "plt.plot(model_history.history['val_accuracy'])\n",
    "plt.title('model accuracy')\n",
    "plt.ylabel('accuracy')\n",
    "plt.xlabel('epoch')\n",
    "plt.legend(['train', 'test'], loc='upper left')\n",
    "plt.show()"
   ]
  },
  {
   "cell_type": "code",
   "execution_count": 43,
   "id": "0724970e",
   "metadata": {},
   "outputs": [
    {
     "data": {
      "image/png": "[encoded data removed]",
      "text/plain": [
       "<Figure size 432x288 with 1 Axes>"
      ]
     },
     "metadata": {
      "needs_background": "light"
     },
     "output_type": "display_data"
    }
   ],
   "source": [
    "# summarize history for loss\n",
    "plt.plot(model_history.history['loss'])\n",
    "plt.plot(model_history.history['val_loss'])\n",
    "plt.title('model loss')\n",
    "plt.ylabel('loss')\n",
    "plt.xlabel('epoch')\n",
    "plt.legend(['train', 'test'], loc='upper left')\n",
    "plt.show()"
   ]
  },
  {
   "cell_type": "code",
   "execution_count": 44,
   "id": "e80e923c",
   "metadata": {},
   "outputs": [],
   "source": [
    "# Part 3 - Making the predictions and evaluating the model\n",
    "\n",
    "# Predicting the Test set results\n",
    "y_pred = classifier.predict(test_x)\n",
    "y_pred = (y_pred > 0.5)\n"
   ]
  },
  {
   "cell_type": "code",
   "execution_count": 45,
   "id": "5425888d",
   "metadata": {},
   "outputs": [],
   "source": [
    "# Making the Confusion Matrix\n",
    "from sklearn.metrics import confusion_matrix\n",
    "cm = confusion_matrix(test_y, y_pred)"
   ]
  },
  {
   "cell_type": "code",
   "execution_count": 46,
   "id": "049d11b2",
   "metadata": {},
   "outputs": [],
   "source": [
    "# Calculate the Accuracy\n",
    "from sklearn.metrics import accuracy_score\n",
    "score=accuracy_score(y_pred,test_y)"
   ]
  },
  {
   "cell_type": "code",
   "execution_count": 47,
   "id": "f013b6e4",
   "metadata": {},
   "outputs": [
    {
     "data": {
      "text/plain": [
       "array([[1514,   81],\n",
       "       [ 209,  196]])"
      ]
     },
     "execution_count": 47,
     "metadata": {},
     "output_type": "execute_result"
    }
   ],
   "source": [
    "cm"
   ]
  },
  {
   "cell_type": "code",
   "execution_count": 48,
   "id": "d1305771",
   "metadata": {},
   "outputs": [
    {
     "data": {
      "text/plain": [
       "0.855"
      ]
     },
     "execution_count": 48,
     "metadata": {},
     "output_type": "execute_result"
    }
   ],
   "source": [
    "score"
   ]
  },
  {
   "cell_type": "code",
   "execution_count": null,
   "id": "16d1eb6e",
   "metadata": {},
   "outputs": [],
   "source": []
  }
 ],
 "metadata": {
  "kernelspec": {
   "display_name": "Python 3 (ipykernel)",
   "language": "python",
   "name": "python3"
  },
  "language_info": {
   "codemirror_mode": {
    "name": "ipython",
    "version": 3
   },
   "file_extension": ".py",
   "mimetype": "text/x-python",
   "name": "python",
   "nbconvert_exporter": "python",
   "pygments_lexer": "ipython3",
   "version": "3.7.10"
  }
 },
 "nbformat": 4,
 "nbformat_minor": 5
}
